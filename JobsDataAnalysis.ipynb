{
 "cells": [
  {
   "cell_type": "code",
   "execution_count": 24,
   "metadata": {},
   "outputs": [],
   "source": [
    "import pandas as pd\n",
    "import numpy as np\n",
    "import matplotlib.pyplot as plt\n",
    "import seaborn as sns\n",
    "import plotly.express as px\n"
   ]
  },
  {
   "cell_type": "code",
   "execution_count": 25,
   "metadata": {},
   "outputs": [
    {
     "name": "stdout",
     "output_type": "stream",
     "text": [
      "<class 'pandas.core.frame.DataFrame'>\n",
      "RangeIndex: 2250 entries, 0 to 2249\n",
      "Data columns (total 15 columns):\n",
      " #   Column            Non-Null Count  Dtype  \n",
      "---  ------            --------------  -----  \n",
      " 0   Job Name          2250 non-null   object \n",
      " 1   Company Name      2250 non-null   object \n",
      " 2   JD                2250 non-null   object \n",
      " 3   Skills            2250 non-null   object \n",
      " 4   Date Posted       2250 non-null   object \n",
      " 5   YOE               2250 non-null   object \n",
      " 6   Location          2179 non-null   object \n",
      " 7   Website           1954 non-null   object \n",
      " 8   Job Function:     2250 non-null   object \n",
      " 9   Industry:         2250 non-null   object \n",
      " 10  Specialization:   2250 non-null   object \n",
      " 11  Qualification:    2250 non-null   object \n",
      " 12  Hiring Location:  6 non-null      object \n",
      " 13  Role:             87 non-null     object \n",
      " 14  Vacancies:        12 non-null     float64\n",
      "dtypes: float64(1), object(14)\n",
      "memory usage: 263.8+ KB\n"
     ]
    },
    {
     "data": {
      "text/html": [
       "<div>\n",
       "<style scoped>\n",
       "    .dataframe tbody tr th:only-of-type {\n",
       "        vertical-align: middle;\n",
       "    }\n",
       "\n",
       "    .dataframe tbody tr th {\n",
       "        vertical-align: top;\n",
       "    }\n",
       "\n",
       "    .dataframe thead th {\n",
       "        text-align: right;\n",
       "    }\n",
       "</style>\n",
       "<table border=\"1\" class=\"dataframe\">\n",
       "  <thead>\n",
       "    <tr style=\"text-align: right;\">\n",
       "      <th></th>\n",
       "      <th>Job Name</th>\n",
       "      <th>Company Name</th>\n",
       "      <th>JD</th>\n",
       "      <th>Skills</th>\n",
       "      <th>Date Posted</th>\n",
       "      <th>YOE</th>\n",
       "      <th>Location</th>\n",
       "      <th>Website</th>\n",
       "      <th>Job Function:</th>\n",
       "      <th>Industry:</th>\n",
       "      <th>Specialization:</th>\n",
       "      <th>Qualification:</th>\n",
       "      <th>Hiring Location:</th>\n",
       "      <th>Role:</th>\n",
       "      <th>Vacancies:</th>\n",
       "    </tr>\n",
       "  </thead>\n",
       "  <tbody>\n",
       "    <tr>\n",
       "      <th>0</th>\n",
       "      <td>Python Engineer</td>\n",
       "      <td>east india securities ltd.</td>\n",
       "      <td>job_description   2  years of experience worki...</td>\n",
       "      <td>python,hadoop,machinelearning</td>\n",
       "      <td>Posted 5 days ago</td>\n",
       "      <td>2 - 5 yrs</td>\n",
       "      <td>Kolkata</td>\n",
       "      <td>http://www.eisec.com/</td>\n",
       "      <td>IT Software : Software Products &amp; Services</td>\n",
       "      <td>Petroleum/Oil and Gas/Power,  Construction/Cem...</td>\n",
       "      <td>Software Engineer</td>\n",
       "      <td>Any Graduate</td>\n",
       "      <td>NaN</td>\n",
       "      <td>NaN</td>\n",
       "      <td>NaN</td>\n",
       "    </tr>\n",
       "    <tr>\n",
       "      <th>1</th>\n",
       "      <td>PYTHON DEVELOPER</td>\n",
       "      <td>DREAMAJAX TECHNOLOGIES</td>\n",
       "      <td>PYTHON DEVELOPER B.E / B.Tech / MCA / M.Sc., o...</td>\n",
       "      <td>python,django,api,sql,nosql</td>\n",
       "      <td>Posted 6 days ago</td>\n",
       "      <td>4 - 7 yrs</td>\n",
       "      <td>Bengaluru / Bangalore</td>\n",
       "      <td>NaN</td>\n",
       "      <td>IT Software : Software Products &amp; Services</td>\n",
       "      <td>Telecom,  IT-Hardware/Networking</td>\n",
       "      <td>Software Engineer</td>\n",
       "      <td>MCA/ PGDCA\\r\\n                    \\r\\n        ...</td>\n",
       "      <td>NaN</td>\n",
       "      <td>NaN</td>\n",
       "      <td>NaN</td>\n",
       "    </tr>\n",
       "    <tr>\n",
       "      <th>2</th>\n",
       "      <td>Python Developer</td>\n",
       "      <td>InnOvator Web Solutions Pvt.Ltd.</td>\n",
       "      <td>Job Category: DevelopmentJob Type: Full TimeJo...</td>\n",
       "      <td>rest,python,django,webdeveloper,mysql,api</td>\n",
       "      <td>Posted 6 days ago</td>\n",
       "      <td>5 - 8 yrs</td>\n",
       "      <td>Mumbai</td>\n",
       "      <td>http://www.innovatorwebsolutions.com</td>\n",
       "      <td>IT Software : Software Products &amp; Services</td>\n",
       "      <td>IT-Hardware/Networking,  Telecom</td>\n",
       "      <td>Software Engineer</td>\n",
       "      <td>Any Graduate</td>\n",
       "      <td>NaN</td>\n",
       "      <td>NaN</td>\n",
       "      <td>NaN</td>\n",
       "    </tr>\n",
       "    <tr>\n",
       "      <th>3</th>\n",
       "      <td>Python - Odoo</td>\n",
       "      <td>AxisTechnolabs</td>\n",
       "      <td>Responsibilities : We are looking for Freshers...</td>\n",
       "      <td>python,django,itskills,html5,api,jquery</td>\n",
       "      <td>Posted 6 days ago</td>\n",
       "      <td>0 - 1 yrs</td>\n",
       "      <td>Ahmedabad</td>\n",
       "      <td>http://www.axistechnolabs.com</td>\n",
       "      <td>IT Software : Software Products &amp; Services</td>\n",
       "      <td>IT-Hardware/Networking,  Telecom</td>\n",
       "      <td>Software Engineer</td>\n",
       "      <td>MCA/ PGDCA\\r\\n                    \\r\\n        ...</td>\n",
       "      <td>NaN</td>\n",
       "      <td>NaN</td>\n",
       "      <td>NaN</td>\n",
       "    </tr>\n",
       "    <tr>\n",
       "      <th>4</th>\n",
       "      <td>Python Developer</td>\n",
       "      <td>pearl global solutions</td>\n",
       "      <td>Python Developer  Django Job Type : Full time,...</td>\n",
       "      <td>python,database,django,teamplayer,sql</td>\n",
       "      <td>Posted 6 days ago</td>\n",
       "      <td>4 - 7 yrs</td>\n",
       "      <td>Cochin/ Kochi/ Ernakulam</td>\n",
       "      <td>https://pearlglobalsolutions.com/</td>\n",
       "      <td>IT Software : Software Products &amp; Services</td>\n",
       "      <td>IT-Hardware/Networking,  Telecom</td>\n",
       "      <td>Software Engineer</td>\n",
       "      <td>Any Graduate</td>\n",
       "      <td>NaN</td>\n",
       "      <td>NaN</td>\n",
       "      <td>NaN</td>\n",
       "    </tr>\n",
       "  </tbody>\n",
       "</table>\n",
       "</div>"
      ],
      "text/plain": [
       "           Job Name                      Company Name  \\\n",
       "0   Python Engineer        east india securities ltd.   \n",
       "1  PYTHON DEVELOPER            DREAMAJAX TECHNOLOGIES   \n",
       "2  Python Developer  InnOvator Web Solutions Pvt.Ltd.   \n",
       "3     Python - Odoo                    AxisTechnolabs   \n",
       "4  Python Developer            pearl global solutions   \n",
       "\n",
       "                                                  JD  \\\n",
       "0  job_description   2  years of experience worki...   \n",
       "1  PYTHON DEVELOPER B.E / B.Tech / MCA / M.Sc., o...   \n",
       "2  Job Category: DevelopmentJob Type: Full TimeJo...   \n",
       "3  Responsibilities : We are looking for Freshers...   \n",
       "4  Python Developer  Django Job Type : Full time,...   \n",
       "\n",
       "                                      Skills        Date Posted        YOE  \\\n",
       "0              python,hadoop,machinelearning  Posted 5 days ago  2 - 5 yrs   \n",
       "1                python,django,api,sql,nosql  Posted 6 days ago  4 - 7 yrs   \n",
       "2  rest,python,django,webdeveloper,mysql,api  Posted 6 days ago  5 - 8 yrs   \n",
       "3    python,django,itskills,html5,api,jquery  Posted 6 days ago  0 - 1 yrs   \n",
       "4      python,database,django,teamplayer,sql  Posted 6 days ago  4 - 7 yrs   \n",
       "\n",
       "                   Location                               Website  \\\n",
       "0                   Kolkata                 http://www.eisec.com/   \n",
       "1     Bengaluru / Bangalore                                   NaN   \n",
       "2                    Mumbai  http://www.innovatorwebsolutions.com   \n",
       "3                 Ahmedabad         http://www.axistechnolabs.com   \n",
       "4  Cochin/ Kochi/ Ernakulam     https://pearlglobalsolutions.com/   \n",
       "\n",
       "                                Job Function:  \\\n",
       "0  IT Software : Software Products & Services   \n",
       "1  IT Software : Software Products & Services   \n",
       "2  IT Software : Software Products & Services   \n",
       "3  IT Software : Software Products & Services   \n",
       "4  IT Software : Software Products & Services   \n",
       "\n",
       "                                           Industry:    Specialization:  \\\n",
       "0  Petroleum/Oil and Gas/Power,  Construction/Cem...  Software Engineer   \n",
       "1                   Telecom,  IT-Hardware/Networking  Software Engineer   \n",
       "2                   IT-Hardware/Networking,  Telecom  Software Engineer   \n",
       "3                   IT-Hardware/Networking,  Telecom  Software Engineer   \n",
       "4                   IT-Hardware/Networking,  Telecom  Software Engineer   \n",
       "\n",
       "                                      Qualification: Hiring Location: Role:  \\\n",
       "0                                       Any Graduate              NaN   NaN   \n",
       "1  MCA/ PGDCA\\r\\n                    \\r\\n        ...              NaN   NaN   \n",
       "2                                       Any Graduate              NaN   NaN   \n",
       "3  MCA/ PGDCA\\r\\n                    \\r\\n        ...              NaN   NaN   \n",
       "4                                       Any Graduate              NaN   NaN   \n",
       "\n",
       "   Vacancies:  \n",
       "0         NaN  \n",
       "1         NaN  \n",
       "2         NaN  \n",
       "3         NaN  \n",
       "4         NaN  "
      ]
     },
     "execution_count": 25,
     "metadata": {},
     "output_type": "execute_result"
    }
   ],
   "source": [
    "scrapped_data = '/Users/jothamwambi/Projects/JobsData/Scrapped_data.csv'\n",
    "job_data = pd.read_csv(scrapped_data)\n",
    "job_data.info()\n",
    "job_data.head()"
   ]
  },
  {
   "cell_type": "code",
   "execution_count": 26,
   "metadata": {},
   "outputs": [
    {
     "data": {
      "text/plain": [
       "Vacancies:\n",
       "False    2238\n",
       "True       12\n",
       "Name: count, dtype: int64"
      ]
     },
     "execution_count": 26,
     "metadata": {},
     "output_type": "execute_result"
    }
   ],
   "source": [
    "job_data['Vacancies:'].notna().value_counts()"
   ]
  },
  {
   "cell_type": "code",
   "execution_count": 27,
   "metadata": {},
   "outputs": [
    {
     "data": {
      "text/html": [
       "<div>\n",
       "<style scoped>\n",
       "    .dataframe tbody tr th:only-of-type {\n",
       "        vertical-align: middle;\n",
       "    }\n",
       "\n",
       "    .dataframe tbody tr th {\n",
       "        vertical-align: top;\n",
       "    }\n",
       "\n",
       "    .dataframe thead th {\n",
       "        text-align: right;\n",
       "    }\n",
       "</style>\n",
       "<table border=\"1\" class=\"dataframe\">\n",
       "  <thead>\n",
       "    <tr style=\"text-align: right;\">\n",
       "      <th></th>\n",
       "      <th>Job Name</th>\n",
       "      <th>Company Name</th>\n",
       "      <th>JD</th>\n",
       "      <th>Skills</th>\n",
       "      <th>Date Posted</th>\n",
       "      <th>YOE</th>\n",
       "      <th>Location</th>\n",
       "      <th>Website</th>\n",
       "      <th>Job Function:</th>\n",
       "      <th>Industry:</th>\n",
       "      <th>Specialization:</th>\n",
       "      <th>Qualification:</th>\n",
       "      <th>Hiring Location:</th>\n",
       "      <th>Role:</th>\n",
       "    </tr>\n",
       "  </thead>\n",
       "  <tbody>\n",
       "    <tr>\n",
       "      <th>0</th>\n",
       "      <td>Python Engineer</td>\n",
       "      <td>east india securities ltd.</td>\n",
       "      <td>job_description   2  years of experience worki...</td>\n",
       "      <td>python,hadoop,machinelearning</td>\n",
       "      <td>Posted 5 days ago</td>\n",
       "      <td>2 - 5 yrs</td>\n",
       "      <td>Kolkata</td>\n",
       "      <td>http://www.eisec.com/</td>\n",
       "      <td>IT Software : Software Products &amp; Services</td>\n",
       "      <td>Petroleum/Oil and Gas/Power,  Construction/Cem...</td>\n",
       "      <td>Software Engineer</td>\n",
       "      <td>Any Graduate</td>\n",
       "      <td>NaN</td>\n",
       "      <td>NaN</td>\n",
       "    </tr>\n",
       "  </tbody>\n",
       "</table>\n",
       "</div>"
      ],
      "text/plain": [
       "          Job Name                Company Name  \\\n",
       "0  Python Engineer  east india securities ltd.   \n",
       "\n",
       "                                                  JD  \\\n",
       "0  job_description   2  years of experience worki...   \n",
       "\n",
       "                          Skills        Date Posted        YOE Location  \\\n",
       "0  python,hadoop,machinelearning  Posted 5 days ago  2 - 5 yrs  Kolkata   \n",
       "\n",
       "                 Website                               Job Function:  \\\n",
       "0  http://www.eisec.com/  IT Software : Software Products & Services   \n",
       "\n",
       "                                           Industry:    Specialization:  \\\n",
       "0  Petroleum/Oil and Gas/Power,  Construction/Cem...  Software Engineer   \n",
       "\n",
       "  Qualification: Hiring Location: Role:  \n",
       "0   Any Graduate              NaN   NaN  "
      ]
     },
     "execution_count": 27,
     "metadata": {},
     "output_type": "execute_result"
    }
   ],
   "source": [
    "# Since the values in Column 'Vacancies:' is too few(12) against 2,238 missing values, then it won't offer much insights. So it's safe to delete it.\n",
    "job_data = job_data.drop(columns='Vacancies:')\n",
    "job_data.head(1)"
   ]
  },
  {
   "cell_type": "code",
   "execution_count": 28,
   "metadata": {},
   "outputs": [
    {
     "name": "stdout",
     "output_type": "stream",
     "text": [
      "Role:\n",
      "False    2163\n",
      "True       87\n",
      "Name: count, dtype: int64\n",
      "Hiring Location:\n",
      "False    2244\n",
      "True        6\n",
      "Name: count, dtype: int64\n"
     ]
    },
    {
     "data": {
      "text/html": [
       "<div>\n",
       "<style scoped>\n",
       "    .dataframe tbody tr th:only-of-type {\n",
       "        vertical-align: middle;\n",
       "    }\n",
       "\n",
       "    .dataframe tbody tr th {\n",
       "        vertical-align: top;\n",
       "    }\n",
       "\n",
       "    .dataframe thead th {\n",
       "        text-align: right;\n",
       "    }\n",
       "</style>\n",
       "<table border=\"1\" class=\"dataframe\">\n",
       "  <thead>\n",
       "    <tr style=\"text-align: right;\">\n",
       "      <th></th>\n",
       "      <th>Job Name</th>\n",
       "      <th>Company Name</th>\n",
       "      <th>JD</th>\n",
       "      <th>Skills</th>\n",
       "      <th>Date Posted</th>\n",
       "      <th>YOE</th>\n",
       "      <th>Location</th>\n",
       "      <th>Website</th>\n",
       "      <th>Job Function:</th>\n",
       "      <th>Industry:</th>\n",
       "      <th>Specialization:</th>\n",
       "      <th>Qualification:</th>\n",
       "      <th>Hiring Location:</th>\n",
       "      <th>Role:</th>\n",
       "    </tr>\n",
       "  </thead>\n",
       "  <tbody>\n",
       "    <tr>\n",
       "      <th>94</th>\n",
       "      <td>Python Internship at  Ahmedabad</td>\n",
       "      <td>Maxgen Technologies\\r\\n     (More Jobs)</td>\n",
       "      <td>Maxgen Technologies pvt ltd offering live proj...</td>\n",
       "      <td>corepython</td>\n",
       "      <td>Posted a month ago</td>\n",
       "      <td>0 - 1 yrs</td>\n",
       "      <td>(More Jobs)</td>\n",
       "      <td>NaN</td>\n",
       "      <td>IT Software : Software Products &amp; Services</td>\n",
       "      <td>IT-Software</td>\n",
       "      <td>Internet/E-commerce,Mobile,web development</td>\n",
       "      <td>Any Graduate</td>\n",
       "      <td>Pune</td>\n",
       "      <td>Intern, Fresher</td>\n",
       "    </tr>\n",
       "    <tr>\n",
       "      <th>565</th>\n",
       "      <td>React Js Internship in Ahmedabad</td>\n",
       "      <td>Maxgen Technologies\\r\\n     (More Jobs)</td>\n",
       "      <td>Maxgen Technologies  Pvt Ltd is an it company ...</td>\n",
       "      <td>react,Html</td>\n",
       "      <td>Posted a month ago</td>\n",
       "      <td>0 - 1 yrs</td>\n",
       "      <td>(More Jobs)</td>\n",
       "      <td>NaN</td>\n",
       "      <td>IT Software : Software Products &amp; Services</td>\n",
       "      <td>IT-Software</td>\n",
       "      <td>Internet/E-commerce,Mobile</td>\n",
       "      <td>Any Graduate</td>\n",
       "      <td>Pune</td>\n",
       "      <td>Intern, Fresher</td>\n",
       "    </tr>\n",
       "    <tr>\n",
       "      <th>818</th>\n",
       "      <td>React  Js Internship in Ahmedabad</td>\n",
       "      <td>Maxgen Technologies\\r\\n     (More Jobs)</td>\n",
       "      <td>Maxgen technologies pvt ltd offering internshi...</td>\n",
       "      <td>Javascript,Css,frontend</td>\n",
       "      <td>Posted a month ago</td>\n",
       "      <td>0 - 1 yrs</td>\n",
       "      <td>(More Jobs)</td>\n",
       "      <td>NaN</td>\n",
       "      <td>IT Software : Software Products &amp; Services</td>\n",
       "      <td>IT-Software</td>\n",
       "      <td>Internet/E-commerce,Mobile,react js</td>\n",
       "      <td>Any Graduate</td>\n",
       "      <td>Pune</td>\n",
       "      <td>Intern, Fresher</td>\n",
       "    </tr>\n",
       "    <tr>\n",
       "      <th>1115</th>\n",
       "      <td>React  Js Internship in Ahmedabad</td>\n",
       "      <td>Maxgen Technologies\\r\\n     (More Jobs)</td>\n",
       "      <td>Maxgen technologies pvt ltd offering internshi...</td>\n",
       "      <td>Javascript,Css,frontend</td>\n",
       "      <td>Posted a month ago</td>\n",
       "      <td>0 - 1 yrs</td>\n",
       "      <td>(More Jobs)</td>\n",
       "      <td>NaN</td>\n",
       "      <td>IT Software : Software Products &amp; Services</td>\n",
       "      <td>IT-Software</td>\n",
       "      <td>Internet/E-commerce,Mobile,react js</td>\n",
       "      <td>Any Graduate</td>\n",
       "      <td>Pune</td>\n",
       "      <td>Intern, Fresher</td>\n",
       "    </tr>\n",
       "    <tr>\n",
       "      <th>1116</th>\n",
       "      <td>React Js Internship in Ahmedabad</td>\n",
       "      <td>Maxgen Technologies\\r\\n     (More Jobs)</td>\n",
       "      <td>Maxgen technologies is an it company based in ...</td>\n",
       "      <td>developer,reactjs,Javascript</td>\n",
       "      <td>Posted a month ago</td>\n",
       "      <td>0 - 1 yrs</td>\n",
       "      <td>(More Jobs)</td>\n",
       "      <td>NaN</td>\n",
       "      <td>IT Software : Software Products &amp; Services</td>\n",
       "      <td>IT-Software</td>\n",
       "      <td>Internet/E-commerce,Mobile</td>\n",
       "      <td>Any Graduate</td>\n",
       "      <td>Pune</td>\n",
       "      <td>Intern, Fresher</td>\n",
       "    </tr>\n",
       "    <tr>\n",
       "      <th>2031</th>\n",
       "      <td>\"Insurance operations executive\"</td>\n",
       "      <td>Next Step Associates\\r\\n     (More Jobs)</td>\n",
       "      <td>1. Job Title: Medical Operations Sr Executive\\...</td>\n",
       "      <td>\"dataentry\",\"advancedexcel\"</td>\n",
       "      <td>Work from Home \\r\\n\\t\\t    \\t\\nPosted few days...</td>\n",
       "      <td>5 - 7 yrs</td>\n",
       "      <td>(More Jobs)</td>\n",
       "      <td>NaN</td>\n",
       "      <td>Administration</td>\n",
       "      <td>Insurance</td>\n",
       "      <td>Administration,Office Management &amp; Coordinatio...</td>\n",
       "      <td>Any Graduate</td>\n",
       "      <td>Dubai</td>\n",
       "      <td>Administration Assistant/ Executive, Operation...</td>\n",
       "    </tr>\n",
       "  </tbody>\n",
       "</table>\n",
       "</div>"
      ],
      "text/plain": [
       "                               Job Name  \\\n",
       "94      Python Internship at  Ahmedabad   \n",
       "565    React Js Internship in Ahmedabad   \n",
       "818   React  Js Internship in Ahmedabad   \n",
       "1115  React  Js Internship in Ahmedabad   \n",
       "1116   React Js Internship in Ahmedabad   \n",
       "2031   \"Insurance operations executive\"   \n",
       "\n",
       "                                  Company Name  \\\n",
       "94     Maxgen Technologies\\r\\n     (More Jobs)   \n",
       "565    Maxgen Technologies\\r\\n     (More Jobs)   \n",
       "818    Maxgen Technologies\\r\\n     (More Jobs)   \n",
       "1115   Maxgen Technologies\\r\\n     (More Jobs)   \n",
       "1116   Maxgen Technologies\\r\\n     (More Jobs)   \n",
       "2031  Next Step Associates\\r\\n     (More Jobs)   \n",
       "\n",
       "                                                     JD  \\\n",
       "94    Maxgen Technologies pvt ltd offering live proj...   \n",
       "565   Maxgen Technologies  Pvt Ltd is an it company ...   \n",
       "818   Maxgen technologies pvt ltd offering internshi...   \n",
       "1115  Maxgen technologies pvt ltd offering internshi...   \n",
       "1116  Maxgen technologies is an it company based in ...   \n",
       "2031  1. Job Title: Medical Operations Sr Executive\\...   \n",
       "\n",
       "                            Skills  \\\n",
       "94                      corepython   \n",
       "565                     react,Html   \n",
       "818        Javascript,Css,frontend   \n",
       "1115       Javascript,Css,frontend   \n",
       "1116  developer,reactjs,Javascript   \n",
       "2031   \"dataentry\",\"advancedexcel\"   \n",
       "\n",
       "                                            Date Posted        YOE  \\\n",
       "94                                   Posted a month ago  0 - 1 yrs   \n",
       "565                                  Posted a month ago  0 - 1 yrs   \n",
       "818                                  Posted a month ago  0 - 1 yrs   \n",
       "1115                                 Posted a month ago  0 - 1 yrs   \n",
       "1116                                 Posted a month ago  0 - 1 yrs   \n",
       "2031  Work from Home \\r\\n\\t\\t    \\t\\nPosted few days...  5 - 7 yrs   \n",
       "\n",
       "         Location Website                               Job Function:  \\\n",
       "94    (More Jobs)     NaN  IT Software : Software Products & Services   \n",
       "565   (More Jobs)     NaN  IT Software : Software Products & Services   \n",
       "818   (More Jobs)     NaN  IT Software : Software Products & Services   \n",
       "1115  (More Jobs)     NaN  IT Software : Software Products & Services   \n",
       "1116  (More Jobs)     NaN  IT Software : Software Products & Services   \n",
       "2031  (More Jobs)     NaN                              Administration   \n",
       "\n",
       "        Industry:                                    Specialization:  \\\n",
       "94    IT-Software         Internet/E-commerce,Mobile,web development   \n",
       "565   IT-Software                         Internet/E-commerce,Mobile   \n",
       "818   IT-Software                Internet/E-commerce,Mobile,react js   \n",
       "1115  IT-Software                Internet/E-commerce,Mobile,react js   \n",
       "1116  IT-Software                         Internet/E-commerce,Mobile   \n",
       "2031    Insurance  Administration,Office Management & Coordinatio...   \n",
       "\n",
       "     Qualification: Hiring Location:  \\\n",
       "94     Any Graduate             Pune   \n",
       "565    Any Graduate             Pune   \n",
       "818    Any Graduate             Pune   \n",
       "1115   Any Graduate             Pune   \n",
       "1116   Any Graduate             Pune   \n",
       "2031   Any Graduate            Dubai   \n",
       "\n",
       "                                                  Role:  \n",
       "94                                      Intern, Fresher  \n",
       "565                                     Intern, Fresher  \n",
       "818                                     Intern, Fresher  \n",
       "1115                                    Intern, Fresher  \n",
       "1116                                    Intern, Fresher  \n",
       "2031  Administration Assistant/ Executive, Operation...  "
      ]
     },
     "execution_count": 28,
     "metadata": {},
     "output_type": "execute_result"
    }
   ],
   "source": [
    "# Examinng other NaN Values in Role & Hiring Location Colunmns\n",
    "print(job_data['Role:'].notna().value_counts())\n",
    "print(job_data['Hiring Location:'].notna().value_counts())\n",
    "hiring_location_not_null = job_data[job_data['Hiring Location:'].notnull()]\n",
    "hiring_location_not_null\n"
   ]
  },
  {
   "cell_type": "code",
   "execution_count": 29,
   "metadata": {},
   "outputs": [
    {
     "data": {
      "text/html": [
       "<div>\n",
       "<style scoped>\n",
       "    .dataframe tbody tr th:only-of-type {\n",
       "        vertical-align: middle;\n",
       "    }\n",
       "\n",
       "    .dataframe tbody tr th {\n",
       "        vertical-align: top;\n",
       "    }\n",
       "\n",
       "    .dataframe thead th {\n",
       "        text-align: right;\n",
       "    }\n",
       "</style>\n",
       "<table border=\"1\" class=\"dataframe\">\n",
       "  <thead>\n",
       "    <tr style=\"text-align: right;\">\n",
       "      <th></th>\n",
       "      <th>Job Name</th>\n",
       "      <th>Company Name</th>\n",
       "      <th>JD</th>\n",
       "      <th>Skills</th>\n",
       "      <th>Date Posted</th>\n",
       "      <th>YOE</th>\n",
       "      <th>Location</th>\n",
       "      <th>Website</th>\n",
       "      <th>Job Function:</th>\n",
       "      <th>Industry:</th>\n",
       "      <th>Specialization:</th>\n",
       "      <th>Qualification:</th>\n",
       "      <th>Role:</th>\n",
       "    </tr>\n",
       "  </thead>\n",
       "  <tbody>\n",
       "    <tr>\n",
       "      <th>0</th>\n",
       "      <td>Python Engineer</td>\n",
       "      <td>east india securities ltd.</td>\n",
       "      <td>job_description   2  years of experience worki...</td>\n",
       "      <td>python,hadoop,machinelearning</td>\n",
       "      <td>Posted 5 days ago</td>\n",
       "      <td>2 - 5 yrs</td>\n",
       "      <td>Kolkata</td>\n",
       "      <td>http://www.eisec.com/</td>\n",
       "      <td>IT Software : Software Products &amp; Services</td>\n",
       "      <td>Petroleum/Oil and Gas/Power,  Construction/Cem...</td>\n",
       "      <td>Software Engineer</td>\n",
       "      <td>Any Graduate</td>\n",
       "      <td>NaN</td>\n",
       "    </tr>\n",
       "    <tr>\n",
       "      <th>1</th>\n",
       "      <td>PYTHON DEVELOPER</td>\n",
       "      <td>DREAMAJAX TECHNOLOGIES</td>\n",
       "      <td>PYTHON DEVELOPER B.E / B.Tech / MCA / M.Sc., o...</td>\n",
       "      <td>python,django,api,sql,nosql</td>\n",
       "      <td>Posted 6 days ago</td>\n",
       "      <td>4 - 7 yrs</td>\n",
       "      <td>Bengaluru / Bangalore</td>\n",
       "      <td>NaN</td>\n",
       "      <td>IT Software : Software Products &amp; Services</td>\n",
       "      <td>Telecom,  IT-Hardware/Networking</td>\n",
       "      <td>Software Engineer</td>\n",
       "      <td>MCA/ PGDCA\\r\\n                    \\r\\n        ...</td>\n",
       "      <td>NaN</td>\n",
       "    </tr>\n",
       "    <tr>\n",
       "      <th>2</th>\n",
       "      <td>Python Developer</td>\n",
       "      <td>InnOvator Web Solutions Pvt.Ltd.</td>\n",
       "      <td>Job Category: DevelopmentJob Type: Full TimeJo...</td>\n",
       "      <td>rest,python,django,webdeveloper,mysql,api</td>\n",
       "      <td>Posted 6 days ago</td>\n",
       "      <td>5 - 8 yrs</td>\n",
       "      <td>Mumbai</td>\n",
       "      <td>http://www.innovatorwebsolutions.com</td>\n",
       "      <td>IT Software : Software Products &amp; Services</td>\n",
       "      <td>IT-Hardware/Networking,  Telecom</td>\n",
       "      <td>Software Engineer</td>\n",
       "      <td>Any Graduate</td>\n",
       "      <td>NaN</td>\n",
       "    </tr>\n",
       "    <tr>\n",
       "      <th>3</th>\n",
       "      <td>Python - Odoo</td>\n",
       "      <td>AxisTechnolabs</td>\n",
       "      <td>Responsibilities : We are looking for Freshers...</td>\n",
       "      <td>python,django,itskills,html5,api,jquery</td>\n",
       "      <td>Posted 6 days ago</td>\n",
       "      <td>0 - 1 yrs</td>\n",
       "      <td>Ahmedabad</td>\n",
       "      <td>http://www.axistechnolabs.com</td>\n",
       "      <td>IT Software : Software Products &amp; Services</td>\n",
       "      <td>IT-Hardware/Networking,  Telecom</td>\n",
       "      <td>Software Engineer</td>\n",
       "      <td>MCA/ PGDCA\\r\\n                    \\r\\n        ...</td>\n",
       "      <td>NaN</td>\n",
       "    </tr>\n",
       "    <tr>\n",
       "      <th>4</th>\n",
       "      <td>Python Developer</td>\n",
       "      <td>pearl global solutions</td>\n",
       "      <td>Python Developer  Django Job Type : Full time,...</td>\n",
       "      <td>python,database,django,teamplayer,sql</td>\n",
       "      <td>Posted 6 days ago</td>\n",
       "      <td>4 - 7 yrs</td>\n",
       "      <td>Cochin/ Kochi/ Ernakulam</td>\n",
       "      <td>https://pearlglobalsolutions.com/</td>\n",
       "      <td>IT Software : Software Products &amp; Services</td>\n",
       "      <td>IT-Hardware/Networking,  Telecom</td>\n",
       "      <td>Software Engineer</td>\n",
       "      <td>Any Graduate</td>\n",
       "      <td>NaN</td>\n",
       "    </tr>\n",
       "  </tbody>\n",
       "</table>\n",
       "</div>"
      ],
      "text/plain": [
       "           Job Name                      Company Name  \\\n",
       "0   Python Engineer        east india securities ltd.   \n",
       "1  PYTHON DEVELOPER            DREAMAJAX TECHNOLOGIES   \n",
       "2  Python Developer  InnOvator Web Solutions Pvt.Ltd.   \n",
       "3     Python - Odoo                    AxisTechnolabs   \n",
       "4  Python Developer            pearl global solutions   \n",
       "\n",
       "                                                  JD  \\\n",
       "0  job_description   2  years of experience worki...   \n",
       "1  PYTHON DEVELOPER B.E / B.Tech / MCA / M.Sc., o...   \n",
       "2  Job Category: DevelopmentJob Type: Full TimeJo...   \n",
       "3  Responsibilities : We are looking for Freshers...   \n",
       "4  Python Developer  Django Job Type : Full time,...   \n",
       "\n",
       "                                      Skills        Date Posted        YOE  \\\n",
       "0              python,hadoop,machinelearning  Posted 5 days ago  2 - 5 yrs   \n",
       "1                python,django,api,sql,nosql  Posted 6 days ago  4 - 7 yrs   \n",
       "2  rest,python,django,webdeveloper,mysql,api  Posted 6 days ago  5 - 8 yrs   \n",
       "3    python,django,itskills,html5,api,jquery  Posted 6 days ago  0 - 1 yrs   \n",
       "4      python,database,django,teamplayer,sql  Posted 6 days ago  4 - 7 yrs   \n",
       "\n",
       "                   Location                               Website  \\\n",
       "0                   Kolkata                 http://www.eisec.com/   \n",
       "1     Bengaluru / Bangalore                                   NaN   \n",
       "2                    Mumbai  http://www.innovatorwebsolutions.com   \n",
       "3                 Ahmedabad         http://www.axistechnolabs.com   \n",
       "4  Cochin/ Kochi/ Ernakulam     https://pearlglobalsolutions.com/   \n",
       "\n",
       "                                Job Function:  \\\n",
       "0  IT Software : Software Products & Services   \n",
       "1  IT Software : Software Products & Services   \n",
       "2  IT Software : Software Products & Services   \n",
       "3  IT Software : Software Products & Services   \n",
       "4  IT Software : Software Products & Services   \n",
       "\n",
       "                                           Industry:    Specialization:  \\\n",
       "0  Petroleum/Oil and Gas/Power,  Construction/Cem...  Software Engineer   \n",
       "1                   Telecom,  IT-Hardware/Networking  Software Engineer   \n",
       "2                   IT-Hardware/Networking,  Telecom  Software Engineer   \n",
       "3                   IT-Hardware/Networking,  Telecom  Software Engineer   \n",
       "4                   IT-Hardware/Networking,  Telecom  Software Engineer   \n",
       "\n",
       "                                      Qualification: Role:  \n",
       "0                                       Any Graduate   NaN  \n",
       "1  MCA/ PGDCA\\r\\n                    \\r\\n        ...   NaN  \n",
       "2                                       Any Graduate   NaN  \n",
       "3  MCA/ PGDCA\\r\\n                    \\r\\n        ...   NaN  \n",
       "4                                       Any Graduate   NaN  "
      ]
     },
     "execution_count": 29,
     "metadata": {},
     "output_type": "execute_result"
    }
   ],
   "source": [
    "# Let's drop Hiring Location Column and leave Role Column. Hiring Column only has 6 rows with data.\n",
    "job_data = job_data.drop(columns='Hiring Location:')\n",
    "job_data.head()"
   ]
  },
  {
   "cell_type": "code",
   "execution_count": 30,
   "metadata": {},
   "outputs": [
    {
     "data": {
      "text/plain": [
       "array(['Any Graduate',\n",
       "       'MCA/ PGDCA\\r\\n                    \\r\\n                    \\r\\n                  \\n\\r\\n                    BE/ B.Tech (Engineering)',\n",
       "       'MCA/ PGDCA\\r\\n                    \\r\\n                    \\r\\n                  \\n\\r\\n                    BCA (Computer Application)',\n",
       "       'ME/ M.Tech./ MS (Engg/ Sciences)\\r\\n                    \\r\\n                    \\r\\n                  \\n\\r\\n                    Any Graduate',\n",
       "       'BE/ B.Tech (Engineering)',\n",
       "       'MCA/ PGDCA\\r\\n                    \\r\\n                    \\r\\n                  \\n\\r\\n                    Any Graduate',\n",
       "       'M.Ed. (Education)\\r\\n                    \\r\\n                    \\r\\n                  \\n\\r\\n                    Any Graduate',\n",
       "       'M.Sc. (Science)\\r\\n                    \\r\\n                    \\r\\n                  \\n\\r\\n                    BE/ B.Tech (Engineering)',\n",
       "       'ME/ M.Tech./ MS (Engg/ Sciences)\\r\\n                    \\r\\n                    \\r\\n                  \\n\\r\\n                    BE/ B.Tech (Engineering)',\n",
       "       'BCA (Computer Application)',\n",
       "       'MCA/ PGDCA,  ME/ M.Tech./ MS (Engg/ Sciences)\\r\\n                    \\r\\n                    \\r\\n                  \\n\\r\\n                    BE/ B.Tech (Engineering)',\n",
       "       'ML/ LLM (Law)\\r\\n                    \\r\\n                    \\r\\n                  \\n\\r\\n                    BE/ B.Tech (Engineering)',\n",
       "       'ML/ LLM (Law)\\r\\n                    \\r\\n                    \\r\\n                  \\n\\r\\n                    Any Graduate',\n",
       "       'CS (Company Secretary)\\r\\n                    \\r\\n                    \\r\\n                  \\n\\r\\n                    Any Graduate',\n",
       "       'BA (Arts)',\n",
       "       'MCA/ PGDCA\\r\\n                    \\r\\n                    \\r\\n                  \\n\\r\\n                    BA (Arts)',\n",
       "       'MCA/ PGDCA,  M.Sc. (Science)\\r\\n                    \\r\\n                    \\r\\n                  \\n\\r\\n                    BE/ B.Tech (Engineering)',\n",
       "       'M.Sc. (Science)\\r\\n                    \\r\\n                    \\r\\n                  \\n\\r\\n                    Any Graduate',\n",
       "       'ME/ M.Tech./ MS (Engg/ Sciences)\\r\\n                    \\r\\n                    \\r\\n                  \\n\\r\\n                    BCA (Computer Application)',\n",
       "       'CS (Company Secretary)\\r\\n                    \\r\\n                    \\r\\n                  \\n\\r\\n                    BE/ B.Tech (Engineering)',\n",
       "       'CA (Chartered Accountant),  CS (Company Secretary),  ICWA,  M.Arch. (Architecture),  M.Com. (Commerce),  M.Ed. (Education),  M.Pharm. (Pharmacy),  M.Phil. (Philosophy),  M.Sc. (Science),  MA (Arts),  MBA/ PGDM,  MCA/ PGDCA,  MD/ MS (Medicine),  ME/ M.Tech./ MS (Engg/ Sciences),  Master of Dental Surgery (MDS),  ML/ LLM (Law)\\r\\n                    \\r\\n                    \\r\\n                  \\n\\r\\n                    Any Graduate',\n",
       "       'CS (Company Secretary)\\r\\n                    \\r\\n                    \\r\\n                  \\n\\r\\n                    BCA (Computer Application)',\n",
       "       'MCA/ PGDCA,  M.Sc. (Science),  MA (Arts)\\r\\n                    \\r\\n                    \\r\\n                  \\n\\r\\n                    BE/ B.Tech (Engineering)',\n",
       "       'MBA/ PGDM\\r\\n                    \\r\\n                    \\r\\n                  \\n\\r\\n                    BBA/ BBM/ BBS',\n",
       "       'MBA/ PGDM\\r\\n                    \\r\\n                    \\r\\n                  \\n\\r\\n                    Any Graduate',\n",
       "       'CA (Chartered Accountant)\\r\\n                    \\r\\n                    \\r\\n                  \\n\\r\\n                    Any Graduate',\n",
       "       'M.Com. (Commerce)\\r\\n                    \\r\\n                    \\r\\n                  \\n\\r\\n                    Any Graduate',\n",
       "       'M.Com. (Commerce)\\r\\n                    \\r\\n                    \\r\\n                  \\n\\r\\n                    B.Com. (Commerce)',\n",
       "       'BE/ B.Tech (Engineering),  Diploma-Other Diploma,  Other School/ Graduation\\r\\n                     -\\r\\n                      Mechanical Engineering\\r\\n                    \\r\\n                    \\r\\n                      (Engineering,  Mechanical\\r\\n                      \\r\\n                      \\r\\n                      )',\n",
       "       'B.Com. (Commerce)\\r\\n                    \\r\\n                    \\r\\n                      (Commerce Pass\\r\\n                      \\r\\n                      \\r\\n                      )',\n",
       "       'B.Com. (Commerce)',\n",
       "       'M.Arch. (Architecture)\\r\\n                    \\r\\n                    \\r\\n                  \\n\\r\\n                    Any Graduate',\n",
       "       'ME/ M.Tech./ MS (Engg/ Sciences)\\r\\n                    \\r\\n                    \\r\\n                  \\n\\r\\n                    BA (Arts)',\n",
       "       'ME/ M.Tech./ MS (Engg/ Sciences)\\r\\n                    \\r\\n                    \\r\\n                  \\n\\r\\n                    B.Com. (Commerce)',\n",
       "       'ICWA\\r\\n                    \\r\\n                    \\r\\n                  \\n\\r\\n                    Any Graduate',\n",
       "       'M.Com. (Commerce)\\r\\n                    \\r\\n                    \\r\\n                  \\n\\r\\n                    BBA/ BBM/ BBS'],\n",
       "      dtype=object)"
      ]
     },
     "execution_count": 30,
     "metadata": {},
     "output_type": "execute_result"
    }
   ],
   "source": [
    "#Cleaning the Qualification Column to remove unwanted characters and spaces.\n",
    "job_data['Qualification:'].unique() # Examining the 'Qualification:' column for any incoherent text strings or unwanted characters"
   ]
  },
  {
   "cell_type": "code",
   "execution_count": 31,
   "metadata": {},
   "outputs": [
    {
     "data": {
      "text/plain": [
       "0                                            Any Graduate\n",
       "1       MCA/ PGDCA                                    ...\n",
       "2                                            Any Graduate\n",
       "3       MCA/ PGDCA                                    ...\n",
       "4                                            Any Graduate\n",
       "                              ...                        \n",
       "2245    MBA/ PGDM                                     ...\n",
       "2246    ME/ M.Tech./ MS (Engg/ Sciences)              ...\n",
       "2247                                         Any Graduate\n",
       "2248    ME/ M.Tech./ MS (Engg/ Sciences)              ...\n",
       "2249                                    B.Com. (Commerce)\n",
       "Name: Qualification:, Length: 2250, dtype: object"
      ]
     },
     "execution_count": 31,
     "metadata": {},
     "output_type": "execute_result"
    }
   ],
   "source": [
    "job_data['Qualification:'] = job_data['Qualification:'].str.replace(r'[\\r\\n]+', ' ', regex=True).str.strip() #Cleaning the 'Qualification:' column by removing unwanted characters and trimming excessive spaces\n",
    "job_data['Qualification:']"
   ]
  },
  {
   "cell_type": "code",
   "execution_count": 32,
   "metadata": {},
   "outputs": [
    {
     "data": {
      "text/html": [
       "<div>\n",
       "<style scoped>\n",
       "    .dataframe tbody tr th:only-of-type {\n",
       "        vertical-align: middle;\n",
       "    }\n",
       "\n",
       "    .dataframe tbody tr th {\n",
       "        vertical-align: top;\n",
       "    }\n",
       "\n",
       "    .dataframe thead th {\n",
       "        text-align: right;\n",
       "    }\n",
       "</style>\n",
       "<table border=\"1\" class=\"dataframe\">\n",
       "  <thead>\n",
       "    <tr style=\"text-align: right;\">\n",
       "      <th></th>\n",
       "      <th>Job Name</th>\n",
       "      <th>Company Name</th>\n",
       "      <th>JD</th>\n",
       "      <th>Skills</th>\n",
       "      <th>Date Posted</th>\n",
       "      <th>YOE</th>\n",
       "      <th>Location</th>\n",
       "      <th>Website</th>\n",
       "      <th>Job Function:</th>\n",
       "      <th>Industry:</th>\n",
       "      <th>Specialization:</th>\n",
       "      <th>Qualification:</th>\n",
       "      <th>Role:</th>\n",
       "    </tr>\n",
       "  </thead>\n",
       "  <tbody>\n",
       "    <tr>\n",
       "      <th>0</th>\n",
       "      <td>Python Engineer</td>\n",
       "      <td>east india securities ltd.</td>\n",
       "      <td>job_description   2  years of experience worki...</td>\n",
       "      <td>python,hadoop,machinelearning</td>\n",
       "      <td>Posted 5 days ago</td>\n",
       "      <td>2 - 5 yrs</td>\n",
       "      <td>Kolkata</td>\n",
       "      <td>http://www.eisec.com/</td>\n",
       "      <td>IT Software : Software Products &amp; Services</td>\n",
       "      <td>Petroleum/Oil and Gas/Power,  Construction/Cem...</td>\n",
       "      <td>Software Engineer</td>\n",
       "      <td>Any Graduate</td>\n",
       "      <td>NaN</td>\n",
       "    </tr>\n",
       "    <tr>\n",
       "      <th>1</th>\n",
       "      <td>PYTHON DEVELOPER</td>\n",
       "      <td>DREAMAJAX TECHNOLOGIES</td>\n",
       "      <td>PYTHON DEVELOPER B.E / B.Tech / MCA / M.Sc., o...</td>\n",
       "      <td>python,django,api,sql,nosql</td>\n",
       "      <td>Posted 6 days ago</td>\n",
       "      <td>4 - 7 yrs</td>\n",
       "      <td>Bengaluru / Bangalore</td>\n",
       "      <td>NaN</td>\n",
       "      <td>IT Software : Software Products &amp; Services</td>\n",
       "      <td>Telecom,  IT-Hardware/Networking</td>\n",
       "      <td>Software Engineer</td>\n",
       "      <td>MCA/ PGDCA                                    ...</td>\n",
       "      <td>NaN</td>\n",
       "    </tr>\n",
       "    <tr>\n",
       "      <th>2</th>\n",
       "      <td>Python Developer</td>\n",
       "      <td>InnOvator Web Solutions Pvt.Ltd.</td>\n",
       "      <td>Job Category: DevelopmentJob Type: Full TimeJo...</td>\n",
       "      <td>rest,python,django,webdeveloper,mysql,api</td>\n",
       "      <td>Posted 6 days ago</td>\n",
       "      <td>5 - 8 yrs</td>\n",
       "      <td>Mumbai</td>\n",
       "      <td>http://www.innovatorwebsolutions.com</td>\n",
       "      <td>IT Software : Software Products &amp; Services</td>\n",
       "      <td>IT-Hardware/Networking,  Telecom</td>\n",
       "      <td>Software Engineer</td>\n",
       "      <td>Any Graduate</td>\n",
       "      <td>NaN</td>\n",
       "    </tr>\n",
       "    <tr>\n",
       "      <th>3</th>\n",
       "      <td>Python - Odoo</td>\n",
       "      <td>AxisTechnolabs</td>\n",
       "      <td>Responsibilities : We are looking for Freshers...</td>\n",
       "      <td>python,django,itskills,html5,api,jquery</td>\n",
       "      <td>Posted 6 days ago</td>\n",
       "      <td>0 - 1 yrs</td>\n",
       "      <td>Ahmedabad</td>\n",
       "      <td>http://www.axistechnolabs.com</td>\n",
       "      <td>IT Software : Software Products &amp; Services</td>\n",
       "      <td>IT-Hardware/Networking,  Telecom</td>\n",
       "      <td>Software Engineer</td>\n",
       "      <td>MCA/ PGDCA                                    ...</td>\n",
       "      <td>NaN</td>\n",
       "    </tr>\n",
       "    <tr>\n",
       "      <th>4</th>\n",
       "      <td>Python Developer</td>\n",
       "      <td>pearl global solutions</td>\n",
       "      <td>Python Developer  Django Job Type : Full time,...</td>\n",
       "      <td>python,database,django,teamplayer,sql</td>\n",
       "      <td>Posted 6 days ago</td>\n",
       "      <td>4 - 7 yrs</td>\n",
       "      <td>Cochin/ Kochi/ Ernakulam</td>\n",
       "      <td>https://pearlglobalsolutions.com/</td>\n",
       "      <td>IT Software : Software Products &amp; Services</td>\n",
       "      <td>IT-Hardware/Networking,  Telecom</td>\n",
       "      <td>Software Engineer</td>\n",
       "      <td>Any Graduate</td>\n",
       "      <td>NaN</td>\n",
       "    </tr>\n",
       "  </tbody>\n",
       "</table>\n",
       "</div>"
      ],
      "text/plain": [
       "           Job Name                      Company Name  \\\n",
       "0   Python Engineer        east india securities ltd.   \n",
       "1  PYTHON DEVELOPER            DREAMAJAX TECHNOLOGIES   \n",
       "2  Python Developer  InnOvator Web Solutions Pvt.Ltd.   \n",
       "3     Python - Odoo                    AxisTechnolabs   \n",
       "4  Python Developer            pearl global solutions   \n",
       "\n",
       "                                                  JD  \\\n",
       "0  job_description   2  years of experience worki...   \n",
       "1  PYTHON DEVELOPER B.E / B.Tech / MCA / M.Sc., o...   \n",
       "2  Job Category: DevelopmentJob Type: Full TimeJo...   \n",
       "3  Responsibilities : We are looking for Freshers...   \n",
       "4  Python Developer  Django Job Type : Full time,...   \n",
       "\n",
       "                                      Skills        Date Posted        YOE  \\\n",
       "0              python,hadoop,machinelearning  Posted 5 days ago  2 - 5 yrs   \n",
       "1                python,django,api,sql,nosql  Posted 6 days ago  4 - 7 yrs   \n",
       "2  rest,python,django,webdeveloper,mysql,api  Posted 6 days ago  5 - 8 yrs   \n",
       "3    python,django,itskills,html5,api,jquery  Posted 6 days ago  0 - 1 yrs   \n",
       "4      python,database,django,teamplayer,sql  Posted 6 days ago  4 - 7 yrs   \n",
       "\n",
       "                   Location                               Website  \\\n",
       "0                   Kolkata                 http://www.eisec.com/   \n",
       "1     Bengaluru / Bangalore                                   NaN   \n",
       "2                    Mumbai  http://www.innovatorwebsolutions.com   \n",
       "3                 Ahmedabad         http://www.axistechnolabs.com   \n",
       "4  Cochin/ Kochi/ Ernakulam     https://pearlglobalsolutions.com/   \n",
       "\n",
       "                                Job Function:  \\\n",
       "0  IT Software : Software Products & Services   \n",
       "1  IT Software : Software Products & Services   \n",
       "2  IT Software : Software Products & Services   \n",
       "3  IT Software : Software Products & Services   \n",
       "4  IT Software : Software Products & Services   \n",
       "\n",
       "                                           Industry:    Specialization:  \\\n",
       "0  Petroleum/Oil and Gas/Power,  Construction/Cem...  Software Engineer   \n",
       "1                   Telecom,  IT-Hardware/Networking  Software Engineer   \n",
       "2                   IT-Hardware/Networking,  Telecom  Software Engineer   \n",
       "3                   IT-Hardware/Networking,  Telecom  Software Engineer   \n",
       "4                   IT-Hardware/Networking,  Telecom  Software Engineer   \n",
       "\n",
       "                                      Qualification: Role:  \n",
       "0                                       Any Graduate   NaN  \n",
       "1  MCA/ PGDCA                                    ...   NaN  \n",
       "2                                       Any Graduate   NaN  \n",
       "3  MCA/ PGDCA                                    ...   NaN  \n",
       "4                                       Any Graduate   NaN  "
      ]
     },
     "execution_count": 32,
     "metadata": {},
     "output_type": "execute_result"
    }
   ],
   "source": [
    "job_data.head()"
   ]
  },
  {
   "cell_type": "code",
   "execution_count": 33,
   "metadata": {},
   "outputs": [
    {
     "data": {
      "text/html": [
       "<div>\n",
       "<style scoped>\n",
       "    .dataframe tbody tr th:only-of-type {\n",
       "        vertical-align: middle;\n",
       "    }\n",
       "\n",
       "    .dataframe tbody tr th {\n",
       "        vertical-align: top;\n",
       "    }\n",
       "\n",
       "    .dataframe thead th {\n",
       "        text-align: right;\n",
       "    }\n",
       "</style>\n",
       "<table border=\"1\" class=\"dataframe\">\n",
       "  <thead>\n",
       "    <tr style=\"text-align: right;\">\n",
       "      <th></th>\n",
       "      <th>Job Name</th>\n",
       "      <th>Company Name</th>\n",
       "      <th>JD</th>\n",
       "      <th>Skills</th>\n",
       "      <th>YOE</th>\n",
       "      <th>Location</th>\n",
       "      <th>Website</th>\n",
       "      <th>Job Function:</th>\n",
       "      <th>Industry:</th>\n",
       "      <th>Specialization:</th>\n",
       "      <th>Qualification:</th>\n",
       "      <th>Role:</th>\n",
       "    </tr>\n",
       "  </thead>\n",
       "  <tbody>\n",
       "    <tr>\n",
       "      <th>0</th>\n",
       "      <td>Python Engineer</td>\n",
       "      <td>east india securities ltd.</td>\n",
       "      <td>job_description   2  years of experience worki...</td>\n",
       "      <td>python,hadoop,machinelearning</td>\n",
       "      <td>2 - 5 yrs</td>\n",
       "      <td>Kolkata</td>\n",
       "      <td>http://www.eisec.com/</td>\n",
       "      <td>IT Software : Software Products &amp; Services</td>\n",
       "      <td>Petroleum/Oil and Gas/Power,  Construction/Cem...</td>\n",
       "      <td>Software Engineer</td>\n",
       "      <td>Any Graduate</td>\n",
       "      <td>NaN</td>\n",
       "    </tr>\n",
       "    <tr>\n",
       "      <th>1</th>\n",
       "      <td>PYTHON DEVELOPER</td>\n",
       "      <td>DREAMAJAX TECHNOLOGIES</td>\n",
       "      <td>PYTHON DEVELOPER B.E / B.Tech / MCA / M.Sc., o...</td>\n",
       "      <td>python,django,api,sql,nosql</td>\n",
       "      <td>4 - 7 yrs</td>\n",
       "      <td>Bengaluru / Bangalore</td>\n",
       "      <td>NaN</td>\n",
       "      <td>IT Software : Software Products &amp; Services</td>\n",
       "      <td>Telecom,  IT-Hardware/Networking</td>\n",
       "      <td>Software Engineer</td>\n",
       "      <td>MCA/ PGDCA                                    ...</td>\n",
       "      <td>NaN</td>\n",
       "    </tr>\n",
       "    <tr>\n",
       "      <th>2</th>\n",
       "      <td>Python Developer</td>\n",
       "      <td>InnOvator Web Solutions Pvt.Ltd.</td>\n",
       "      <td>Job Category: DevelopmentJob Type: Full TimeJo...</td>\n",
       "      <td>rest,python,django,webdeveloper,mysql,api</td>\n",
       "      <td>5 - 8 yrs</td>\n",
       "      <td>Mumbai</td>\n",
       "      <td>http://www.innovatorwebsolutions.com</td>\n",
       "      <td>IT Software : Software Products &amp; Services</td>\n",
       "      <td>IT-Hardware/Networking,  Telecom</td>\n",
       "      <td>Software Engineer</td>\n",
       "      <td>Any Graduate</td>\n",
       "      <td>NaN</td>\n",
       "    </tr>\n",
       "    <tr>\n",
       "      <th>3</th>\n",
       "      <td>Python - Odoo</td>\n",
       "      <td>AxisTechnolabs</td>\n",
       "      <td>Responsibilities : We are looking for Freshers...</td>\n",
       "      <td>python,django,itskills,html5,api,jquery</td>\n",
       "      <td>0 - 1 yrs</td>\n",
       "      <td>Ahmedabad</td>\n",
       "      <td>http://www.axistechnolabs.com</td>\n",
       "      <td>IT Software : Software Products &amp; Services</td>\n",
       "      <td>IT-Hardware/Networking,  Telecom</td>\n",
       "      <td>Software Engineer</td>\n",
       "      <td>MCA/ PGDCA                                    ...</td>\n",
       "      <td>NaN</td>\n",
       "    </tr>\n",
       "    <tr>\n",
       "      <th>4</th>\n",
       "      <td>Python Developer</td>\n",
       "      <td>pearl global solutions</td>\n",
       "      <td>Python Developer  Django Job Type : Full time,...</td>\n",
       "      <td>python,database,django,teamplayer,sql</td>\n",
       "      <td>4 - 7 yrs</td>\n",
       "      <td>Cochin/ Kochi/ Ernakulam</td>\n",
       "      <td>https://pearlglobalsolutions.com/</td>\n",
       "      <td>IT Software : Software Products &amp; Services</td>\n",
       "      <td>IT-Hardware/Networking,  Telecom</td>\n",
       "      <td>Software Engineer</td>\n",
       "      <td>Any Graduate</td>\n",
       "      <td>NaN</td>\n",
       "    </tr>\n",
       "  </tbody>\n",
       "</table>\n",
       "</div>"
      ],
      "text/plain": [
       "           Job Name                      Company Name  \\\n",
       "0   Python Engineer        east india securities ltd.   \n",
       "1  PYTHON DEVELOPER            DREAMAJAX TECHNOLOGIES   \n",
       "2  Python Developer  InnOvator Web Solutions Pvt.Ltd.   \n",
       "3     Python - Odoo                    AxisTechnolabs   \n",
       "4  Python Developer            pearl global solutions   \n",
       "\n",
       "                                                  JD  \\\n",
       "0  job_description   2  years of experience worki...   \n",
       "1  PYTHON DEVELOPER B.E / B.Tech / MCA / M.Sc., o...   \n",
       "2  Job Category: DevelopmentJob Type: Full TimeJo...   \n",
       "3  Responsibilities : We are looking for Freshers...   \n",
       "4  Python Developer  Django Job Type : Full time,...   \n",
       "\n",
       "                                      Skills        YOE  \\\n",
       "0              python,hadoop,machinelearning  2 - 5 yrs   \n",
       "1                python,django,api,sql,nosql  4 - 7 yrs   \n",
       "2  rest,python,django,webdeveloper,mysql,api  5 - 8 yrs   \n",
       "3    python,django,itskills,html5,api,jquery  0 - 1 yrs   \n",
       "4      python,database,django,teamplayer,sql  4 - 7 yrs   \n",
       "\n",
       "                   Location                               Website  \\\n",
       "0                   Kolkata                 http://www.eisec.com/   \n",
       "1     Bengaluru / Bangalore                                   NaN   \n",
       "2                    Mumbai  http://www.innovatorwebsolutions.com   \n",
       "3                 Ahmedabad         http://www.axistechnolabs.com   \n",
       "4  Cochin/ Kochi/ Ernakulam     https://pearlglobalsolutions.com/   \n",
       "\n",
       "                                Job Function:  \\\n",
       "0  IT Software : Software Products & Services   \n",
       "1  IT Software : Software Products & Services   \n",
       "2  IT Software : Software Products & Services   \n",
       "3  IT Software : Software Products & Services   \n",
       "4  IT Software : Software Products & Services   \n",
       "\n",
       "                                           Industry:    Specialization:  \\\n",
       "0  Petroleum/Oil and Gas/Power,  Construction/Cem...  Software Engineer   \n",
       "1                   Telecom,  IT-Hardware/Networking  Software Engineer   \n",
       "2                   IT-Hardware/Networking,  Telecom  Software Engineer   \n",
       "3                   IT-Hardware/Networking,  Telecom  Software Engineer   \n",
       "4                   IT-Hardware/Networking,  Telecom  Software Engineer   \n",
       "\n",
       "                                      Qualification: Role:  \n",
       "0                                       Any Graduate   NaN  \n",
       "1  MCA/ PGDCA                                    ...   NaN  \n",
       "2                                       Any Graduate   NaN  \n",
       "3  MCA/ PGDCA                                    ...   NaN  \n",
       "4                                       Any Graduate   NaN  "
      ]
     },
     "execution_count": 33,
     "metadata": {},
     "output_type": "execute_result"
    }
   ],
   "source": [
    "job_data = job_data.drop(columns='Date Posted') # Drop Date Posted Column (Not Needed for this Analysis)\n",
    "job_data.head()"
   ]
  },
  {
   "cell_type": "code",
   "execution_count": 34,
   "metadata": {},
   "outputs": [
    {
     "data": {
      "text/html": [
       "<div>\n",
       "<style scoped>\n",
       "    .dataframe tbody tr th:only-of-type {\n",
       "        vertical-align: middle;\n",
       "    }\n",
       "\n",
       "    .dataframe tbody tr th {\n",
       "        vertical-align: top;\n",
       "    }\n",
       "\n",
       "    .dataframe thead th {\n",
       "        text-align: right;\n",
       "    }\n",
       "</style>\n",
       "<table border=\"1\" class=\"dataframe\">\n",
       "  <thead>\n",
       "    <tr style=\"text-align: right;\">\n",
       "      <th></th>\n",
       "      <th>Job Name</th>\n",
       "      <th>Company Name</th>\n",
       "      <th>JD</th>\n",
       "      <th>Skills</th>\n",
       "      <th>YOE</th>\n",
       "      <th>Location</th>\n",
       "      <th>Website</th>\n",
       "      <th>Job Function:</th>\n",
       "      <th>Industry:</th>\n",
       "      <th>Specialization:</th>\n",
       "      <th>Qualification:</th>\n",
       "      <th>Role:</th>\n",
       "    </tr>\n",
       "  </thead>\n",
       "  <tbody>\n",
       "    <tr>\n",
       "      <th>count</th>\n",
       "      <td>2250</td>\n",
       "      <td>2250</td>\n",
       "      <td>2250</td>\n",
       "      <td>2250</td>\n",
       "      <td>2250</td>\n",
       "      <td>2179</td>\n",
       "      <td>1954</td>\n",
       "      <td>2250</td>\n",
       "      <td>2250</td>\n",
       "      <td>2250</td>\n",
       "      <td>2250</td>\n",
       "      <td>87</td>\n",
       "    </tr>\n",
       "    <tr>\n",
       "      <th>unique</th>\n",
       "      <td>1169</td>\n",
       "      <td>844</td>\n",
       "      <td>1796</td>\n",
       "      <td>1701</td>\n",
       "      <td>83</td>\n",
       "      <td>176</td>\n",
       "      <td>731</td>\n",
       "      <td>24</td>\n",
       "      <td>71</td>\n",
       "      <td>111</td>\n",
       "      <td>36</td>\n",
       "      <td>37</td>\n",
       "    </tr>\n",
       "    <tr>\n",
       "      <th>top</th>\n",
       "      <td>Java Developer</td>\n",
       "      <td>HyreFox Consultants</td>\n",
       "      <td>Test Automation Engineer - Python BangaloreAbo...</td>\n",
       "      <td>pythontestautomation,flashbootloadertesting,se...</td>\n",
       "      <td>0 - 3 yrs</td>\n",
       "      <td>Bengaluru / Bangalore</td>\n",
       "      <td>http://www.hyrefox.com</td>\n",
       "      <td>IT Software : Software Products &amp; Services</td>\n",
       "      <td>IT-Hardware/Networking,  Telecom</td>\n",
       "      <td>Software Engineer</td>\n",
       "      <td>Any Graduate</td>\n",
       "      <td>Software Developer/ Programmer</td>\n",
       "    </tr>\n",
       "    <tr>\n",
       "      <th>freq</th>\n",
       "      <td>140</td>\n",
       "      <td>67</td>\n",
       "      <td>66</td>\n",
       "      <td>24</td>\n",
       "      <td>432</td>\n",
       "      <td>412</td>\n",
       "      <td>67</td>\n",
       "      <td>1970</td>\n",
       "      <td>1072</td>\n",
       "      <td>1654</td>\n",
       "      <td>1429</td>\n",
       "      <td>24</td>\n",
       "    </tr>\n",
       "  </tbody>\n",
       "</table>\n",
       "</div>"
      ],
      "text/plain": [
       "              Job Name         Company Name  \\\n",
       "count             2250                 2250   \n",
       "unique            1169                  844   \n",
       "top     Java Developer  HyreFox Consultants   \n",
       "freq               140                   67   \n",
       "\n",
       "                                                       JD  \\\n",
       "count                                                2250   \n",
       "unique                                               1796   \n",
       "top     Test Automation Engineer - Python BangaloreAbo...   \n",
       "freq                                                   66   \n",
       "\n",
       "                                                   Skills        YOE  \\\n",
       "count                                                2250       2250   \n",
       "unique                                               1701         83   \n",
       "top     pythontestautomation,flashbootloadertesting,se...  0 - 3 yrs   \n",
       "freq                                                   24        432   \n",
       "\n",
       "                     Location                 Website  \\\n",
       "count                    2179                    1954   \n",
       "unique                    176                     731   \n",
       "top     Bengaluru / Bangalore  http://www.hyrefox.com   \n",
       "freq                      412                      67   \n",
       "\n",
       "                                     Job Function:  \\\n",
       "count                                         2250   \n",
       "unique                                          24   \n",
       "top     IT Software : Software Products & Services   \n",
       "freq                                          1970   \n",
       "\n",
       "                               Industry:    Specialization: Qualification:  \\\n",
       "count                               2250               2250           2250   \n",
       "unique                                71                111             36   \n",
       "top     IT-Hardware/Networking,  Telecom  Software Engineer   Any Graduate   \n",
       "freq                                1072               1654           1429   \n",
       "\n",
       "                                 Role:  \n",
       "count                               87  \n",
       "unique                              37  \n",
       "top     Software Developer/ Programmer  \n",
       "freq                                24  "
      ]
     },
     "execution_count": 34,
     "metadata": {},
     "output_type": "execute_result"
    }
   ],
   "source": [
    "job_data.describe()"
   ]
  },
  {
   "cell_type": "code",
   "execution_count": 35,
   "metadata": {},
   "outputs": [
    {
     "name": "stdout",
     "output_type": "stream",
     "text": [
      "Location\n",
      "Bengaluru / Bangalore                             412\n",
      "(More Jobs)                                       151\n",
      "Mumbai                                            149\n",
      "Chennai                                           141\n",
      "Noida/Greater Noida                               135\n",
      "                                                 ... \n",
      "Karnal                                              1\n",
      "Pondicherry/Puducherry,  Chennai                    1\n",
      "Gurgaon,  Pune,  Bengaluru / Bangalore              1\n",
      "Hyderabad/Secunderabad,  Bengaluru / Bangalore      1\n",
      "Delhi,  Delhi/NCR,  Bengaluru / Bangalore           1\n",
      "Name: count, Length: 176, dtype: int64 YOE\n",
      "0 - 3 yrs     432\n",
      "2 - 5 yrs     218\n",
      "3 - 6 yrs     158\n",
      "5 - 8 yrs     152\n",
      "4 - 7 yrs     147\n",
      "             ... \n",
      "7 - 15 yrs      1\n",
      "6 - 7 yrs       1\n",
      "3 - 9 yrs       1\n",
      "3 - 15 yrs      1\n",
      "6 - 12 yrs      1\n",
      "Name: count, Length: 83, dtype: int64 Industry:\n",
      "IT-Hardware/Networking,  Telecom                               1072\n",
      "Consulting Services                                             343\n",
      "IT-Software                                                     163\n",
      "Telecom,  IT-Hardware/Networking                                 81\n",
      "Software Services,  Internet/Dot com/ISP                         68\n",
      "                                                               ... \n",
      "Warehousing                                                       1\n",
      "Hotel/Travel/Tourism/Airlines/Hospitality                         1\n",
      "IT-Software,  Others - others                                     1\n",
      "Consulting Services,  IT-Software                                 1\n",
      "Accounting-Tax/Consulting,  Advertising/PR/Event Management       1\n",
      "Name: count, Length: 71, dtype: int64\n"
     ]
    }
   ],
   "source": [
    "print(job_data['Location'].value_counts(), job_data['YOE'].value_counts(), job_data['Industry:'].value_counts())"
   ]
  },
  {
   "cell_type": "markdown",
   "metadata": {},
   "source": [
    "##### Descriptive Stats:\n",
    "* 844 Unique Companies\n",
    "* 1169 Unique Job Postings\n",
    "* Commonest Job Name is 'Java Developer' with 140 Postings\n",
    "* Commonest Years of Experience range from 0-3 years.\n",
    "* 71 Unique Industries\n"
   ]
  },
  {
   "cell_type": "code",
   "execution_count": 36,
   "metadata": {},
   "outputs": [
    {
     "data": {
      "text/plain": [
       "0                           python,hadoop,machinelearning\n",
       "1                             python,django,api,sql,nosql\n",
       "2               rest,python,django,webdeveloper,mysql,api\n",
       "3                 python,django,itskills,html5,api,jquery\n",
       "4                   python,database,django,teamplayer,sql\n",
       "                              ...                        \n",
       "2245    reports,managementaccounting,reporting,cfa,exc...\n",
       "2246    msexcel,unicaandsalesforce,communication,motiv...\n",
       "2247    DataAnalysis,teamleader,projectmanager,project...\n",
       "2248    msexcel,tally,accounting,internship,finance,ta...\n",
       "2249    Tally,e,emailwriting,MsExcel,BusinessAdministr...\n",
       "Name: Skills, Length: 2250, dtype: object"
      ]
     },
     "execution_count": 36,
     "metadata": {},
     "output_type": "execute_result"
    }
   ],
   "source": [
    "job_data['Skills']"
   ]
  },
  {
   "cell_type": "code",
   "execution_count": 37,
   "metadata": {},
   "outputs": [
    {
     "data": {
      "text/plain": [
       "Skills\n",
       "javascript    796\n",
       "css           638\n",
       "html          628\n",
       "java          439\n",
       "jquery        380\n",
       "Name: count, dtype: int64"
      ]
     },
     "execution_count": 37,
     "metadata": {},
     "output_type": "execute_result"
    }
   ],
   "source": [
    "all_skills = job_data['Skills'].str.split(',').explode()\n",
    "skill_counts = all_skills.value_counts()\n",
    "skill_counts.head()\n"
   ]
  },
  {
   "cell_type": "code",
   "execution_count": 38,
   "metadata": {},
   "outputs": [
    {
     "data": {
      "image/png": "[encoded data removed]",
      "text/plain": [
       "<Figure size 640x480 with 1 Axes>"
      ]
     },
     "metadata": {},
     "output_type": "display_data"
    }
   ],
   "source": [
    "#Top 10 Job Locations\n",
    "\n",
    "location_counts = job_data['Location'].value_counts().head(10)\n",
    "sns.barplot(x=location_counts,y=location_counts.index,hue=location_counts.index)\n",
    "plt.title('Top 10 Job Locations')\n",
    "plt.xlabel('Number of Jobs')\n",
    "plt.ylabel('Job Location')\n",
    "plt.show()"
   ]
  },
  {
   "cell_type": "code",
   "execution_count": 39,
   "metadata": {},
   "outputs": [
    {
     "data": {
      "image/png": "[encoded data removed]",
      "text/plain": [
       "<Figure size 640x480 with 1 Axes>"
      ]
     },
     "metadata": {},
     "output_type": "display_data"
    }
   ],
   "source": [
    "#Top 10 Skills\n",
    "sns.barplot(x=skill_counts.head(15),y=skill_counts.head(15).index,hue=skill_counts.head(15))\n",
    "plt.title('Top 10 Skills Needed for Jobs')\n",
    "plt.xlabel('Number of Jobs')\n",
    "plt.ylabel('Skills')\n",
    "plt.show()"
   ]
  },
  {
   "cell_type": "code",
   "execution_count": 40,
   "metadata": {},
   "outputs": [
    {
     "data": {
      "image/png": "[encoded data removed]",
      "text/plain": [
       "<Figure size 640x480 with 1 Axes>"
      ]
     },
     "metadata": {},
     "output_type": "display_data"
    }
   ],
   "source": [
    "#Top 10 Industries with the most Job Openings\n",
    "industry_count = job_data['Industry:'].value_counts().head(10)\n",
    "\n",
    "sns.barplot(x=industry_count,y=industry_count.index,hue=industry_count.index)\n",
    "plt.title('Top 10 Industries with the most Job Openings')\n",
    "plt.xlabel('Number of Jobs')\n",
    "plt.ylabel('Industry')\n",
    "plt.show()"
   ]
  },
  {
   "cell_type": "code",
   "execution_count": 41,
   "metadata": {},
   "outputs": [
    {
     "data": {
      "image/png": "[encoded data removed]",
      "text/plain": [
       "<Figure size 1000x600 with 1 Axes>"
      ]
     },
     "metadata": {},
     "output_type": "display_data"
    }
   ],
   "source": [
    "# Processing the YOE data\n",
    "def process_yoe_range(yoe_range):\n",
    "    if pd.isna(yoe_range):\n",
    "        return None\n",
    "    yoe_split = yoe_range.split('-')\n",
    "    min_yoe = int(yoe_split[0].strip().split(' ')[0])\n",
    "    max_yoe = int(yoe_split[1].strip().split(' ')[0])\n",
    "    return (min_yoe + max_yoe) / 2\n",
    "\n",
    "job_data['Average YOE'] = job_data['YOE'].apply(process_yoe_range)\n",
    "\n",
    "# Plotting the histogram\n",
    "plt.figure(figsize=(10, 6))\n",
    "sns.histplot(job_data['Average YOE'], bins=10, kde=False)\n",
    "plt.title('Distribution of Average Years of Experience Required')\n",
    "plt.xlabel('Average Years of Experience')\n",
    "plt.ylabel('Number of Job Postings')\n",
    "plt.show()\n"
   ]
  },
  {
   "cell_type": "code",
   "execution_count": 42,
   "metadata": {},
   "outputs": [
    {
     "data": {
      "application/vnd.plotly.v1+json": {
       "config": {
        "plotlyServerURL": "https://plot.ly"
       },
       "data": [
        {
         "alignmentgroup": "True",
         "bingroup": "x",
         "hovertemplate": "Average YOE=%{x}<br>count=%{y}<extra></extra>",
         "legendgroup": "",
         "marker": {
          "color": "#636efa",
          "pattern": {
           "shape": ""
          }
         },
         "name": "",
         "nbinsx": 10,
         "offsetgroup": "",
         "orientation": "v",
         "showlegend": false,
         "type": "histogram",
         "x": [
          3.5,
          5.5,
          6.5,
          0.5,
          5.5,
          3.5,
          7.5,
          9,
          6.5,
          6.5,
          4,
          2.5,
          1.5,
          3.5,
          3.5,
          0.5,
          1.5,
          1.5,
          2.5,
          4.5,
          1.5,
          1.5,
          5.5,
          3.5,
          2.5,
          2.5,
          1.5,
          1,
          1.5,
          3.5,
          2,
          4.5,
          6.5,
          2.5,
          1.5,
          1.5,
          4.5,
          2.5,
          2.5,
          4.5,
          3.5,
          6.5,
          6.5,
          5.5,
          3.5,
          4.5,
          2.5,
          0.5,
          3,
          7,
          7,
          2.5,
          1.5,
          11.5,
          3.5,
          4,
          9.5,
          3.5,
          7.5,
          4.5,
          3.5,
          6,
          6,
          8.5,
          2.5,
          4,
          1,
          4,
          2,
          2,
          4.5,
          1.5,
          7.5,
          0.5,
          3.5,
          1.5,
          7.5,
          3.5,
          7,
          1.5,
          8.5,
          1.5,
          1.5,
          1.5,
          1.5,
          1.5,
          2.5,
          3.5,
          6.5,
          3.5,
          2.5,
          1.5,
          4.5,
          5.5,
          0.5,
          8.5,
          3.5,
          2,
          0.5,
          4.5,
          4.5,
          1.5,
          5.5,
          1.5,
          0.5,
          0.5,
          3,
          0.5,
          1.5,
          0.5,
          1.5,
          7.5,
          6.5,
          1.5,
          11.5,
          6.5,
          6.5,
          9.5,
          3,
          7.5,
          6.5,
          1.5,
          5,
          4.5,
          6,
          6.5,
          3,
          8.5,
          5.5,
          5.5,
          6.5,
          5.5,
          5.5,
          5.5,
          3,
          2,
          5.5,
          7,
          1.5,
          4.5,
          5,
          1.5,
          6.5,
          5.5,
          5.5,
          5,
          5,
          5.5,
          5.5,
          5.5,
          8,
          2,
          1.5,
          5.5,
          5.5,
          5.5,
          5.5,
          5.5,
          4,
          4.5,
          4.5,
          4,
          5.5,
          5.5,
          5.5,
          5.5,
          9.5,
          3,
          5.5,
          5.5,
          5.5,
          5.5,
          5.5,
          5.5,
          5.5,
          5.5,
          1.5,
          6.5,
          6.5,
          6.5,
          0.5,
          3,
          4,
          4.5,
          1.5,
          6.5,
          6.5,
          7.5,
          7.5,
          5.5,
          5.5,
          4.5,
          10,
          5.5,
          5.5,
          4.5,
          5.5,
          5.5,
          0.5,
          2,
          4.5,
          1.5,
          5.5,
          5.5,
          1.5,
          5.5,
          5.5,
          5.5,
          5.5,
          5.5,
          5.5,
          5.5,
          5.5,
          5.5,
          5.5,
          5.5,
          5.5,
          5.5,
          5.5,
          5.5,
          5.5,
          5.5,
          4,
          5.5,
          2.5,
          5.5,
          5.5,
          5.5,
          7.5,
          5.5,
          5.5,
          2,
          5,
          5.5,
          5.5,
          3,
          5.5,
          5.5,
          5.5,
          5.5,
          7.5,
          3.5,
          5.5,
          5.5,
          5.5,
          5.5,
          7.5,
          4.5,
          1.5,
          5.5,
          3.5,
          10,
          2,
          3.5,
          4.5,
          5,
          0.5,
          1.5,
          1.5,
          2,
          1.5,
          2,
          1,
          1.5,
          8,
          3.5,
          1.5,
          4.5,
          1,
          1.5,
          5.5,
          1.5,
          4.5,
          3,
          3,
          4.5,
          1.5,
          4.5,
          7.5,
          3.5,
          3.5,
          2.5,
          4,
          1.5,
          4.5,
          1.5,
          2.5,
          6.5,
          1.5,
          6.5,
          4.5,
          5.5,
          4,
          4.5,
          7.5,
          6.5,
          2,
          2.5,
          4.5,
          4,
          4.5,
          1.5,
          3.5,
          11.5,
          11.5,
          1.5,
          3.5,
          3.5,
          8.5,
          1.5,
          1.5,
          4.5,
          2,
          2.5,
          6.5,
          1.5,
          2,
          2.5,
          1.5,
          4.5,
          1.5,
          5.5,
          2.5,
          5,
          4.5,
          3.5,
          1.5,
          4,
          3.5,
          8.5,
          3.5,
          2.5,
          2.5,
          2.5,
          4.5,
          4.5,
          1.5,
          6.5,
          4,
          4.5,
          11.5,
          5.5,
          1.5,
          4.5,
          3,
          4.5,
          2.5,
          7.5,
          7.5,
          5.5,
          1.5,
          4.5,
          1.5,
          7.5,
          1.5,
          1.5,
          1.5,
          4.5,
          1.5,
          3.5,
          4.5,
          0.5,
          1.5,
          9.5,
          6.5,
          3.5,
          3.5,
          9.5,
          4.5,
          2.5,
          3.5,
          6.5,
          3.5,
          6.5,
          6.5,
          4.5,
          7.5,
          7.5,
          2.5,
          4,
          3,
          8.5,
          1.5,
          5,
          1.5,
          5.5,
          2,
          1.5,
          1.5,
          7,
          1.5,
          5.5,
          6,
          7.5,
          2.5,
          5.5,
          6,
          6.5,
          11.5,
          16.5,
          2,
          2,
          5.5,
          7.5,
          1.5,
          4.5,
          3.5,
          3.5,
          2.5,
          10,
          9.5,
          2,
          11.5,
          6.5,
          4.5,
          7.5,
          2.5,
          7.5,
          6.5,
          4,
          2.5,
          3.5,
          3.5,
          7.5,
          4.5,
          7.5,
          8.5,
          1.5,
          5.5,
          5.5,
          1.5,
          3.5,
          1.5,
          3,
          16.5,
          5.5,
          3.5,
          7.5,
          11.5,
          6.5,
          6.5,
          6.5,
          6,
          3,
          2.5,
          6.5,
          7.5,
          6.5,
          6.5,
          1.5,
          4.5,
          4,
          5,
          7.5,
          3,
          6,
          1.5,
          6.5,
          11.5,
          4,
          3.5,
          3.5,
          3.5,
          3.5,
          3.5,
          4.5,
          0.5,
          4.5,
          3.5,
          3.5,
          3.5,
          6,
          5,
          4.5,
          8.5,
          7.5,
          5.5,
          4.5,
          3.5,
          1.5,
          1.5,
          3.5,
          4,
          5,
          4.5,
          3.5,
          3.5,
          6,
          1.5,
          1.5,
          4.5,
          2.5,
          4,
          4,
          5.5,
          2,
          0.5,
          4,
          2,
          4,
          2,
          2,
          9.5,
          1.5,
          3.5,
          5.5,
          2.5,
          3,
          3,
          1.5,
          5,
          3.5,
          3.5,
          4.5,
          3.5,
          1.5,
          2.5,
          3.5,
          2.5,
          1,
          4.5,
          6,
          6.5,
          5.5,
          2.5,
          5.5,
          3.5,
          3.5,
          1.5,
          2,
          3.5,
          1.5,
          3.5,
          0.5,
          3.5,
          1,
          7,
          1,
          1,
          2.5,
          2.5,
          4,
          3.5,
          3.5,
          5.5,
          2.5,
          2.5,
          1.5,
          2.5,
          0.5,
          3,
          3.5,
          2,
          2.5,
          2,
          7.5,
          3.5,
          1.5,
          3.5,
          1.5,
          1.5,
          8,
          1.5,
          3.5,
          1.5,
          0.5,
          1.5,
          0.5,
          3.5,
          1.5,
          1,
          3,
          1.5,
          2.5,
          1.5,
          2,
          3,
          1,
          5.5,
          3.5,
          2,
          2.5,
          4.5,
          3.5,
          1.5,
          1.5,
          2.5,
          2,
          6.5,
          1.5,
          1.5,
          4,
          3.5,
          1.5,
          2.5,
          1.5,
          2.5,
          3.5,
          4.5,
          4.5,
          1.5,
          1.5,
          3.5,
          1.5,
          2.5,
          3.5,
          4,
          4.5,
          3.5,
          4.5,
          4.5,
          2.5,
          1.5,
          1.5,
          2.5,
          6.5,
          1.5,
          1.5,
          1.5,
          0.5,
          1.5,
          1.5,
          4.5,
          5.5,
          6.5,
          6,
          5.5,
          2.5,
          6.5,
          3.5,
          2.5,
          1.5,
          1.5,
          6.5,
          3,
          2.5,
          6.5,
          1.5,
          1.5,
          1.5,
          6,
          2.5,
          7,
          7,
          1,
          0.5,
          6.5,
          2.5,
          0.5,
          1.5,
          9.5,
          1.5,
          5,
          3.5,
          3.5,
          3.5,
          1.5,
          1.5,
          2,
          4.5,
          7.5,
          1.5,
          2,
          1.5,
          1.5,
          3,
          3.5,
          3,
          1.5,
          2,
          4.5,
          5.5,
          6.5,
          4.5,
          1.5,
          6.5,
          1.5,
          1.5,
          1.5,
          4,
          1.5,
          1.5,
          5,
          1.5,
          1.5,
          3.5,
          4.5,
          3.5,
          3.5,
          4.5,
          3.5,
          5.5,
          2.5,
          1.5,
          2,
          2,
          2,
          3.5,
          0.5,
          7,
          2,
          3,
          3,
          1.5,
          1.5,
          3.5,
          1.5,
          3.5,
          1.5,
          7.5,
          2,
          7,
          0.5,
          0.5,
          3.5,
          1.5,
          1.5,
          4.5,
          1.5,
          5.5,
          1.5,
          1.5,
          4.5,
          3.5,
          4.5,
          0.5,
          1.5,
          3.5,
          6.5,
          1,
          1.5,
          2.5,
          3,
          5.5,
          2,
          3,
          2.5,
          1.5,
          4,
          4.5,
          1.5,
          1.5,
          1.5,
          3,
          1.5,
          3.5,
          3,
          1.5,
          5.5,
          6.5,
          1,
          4.5,
          3.5,
          1.5,
          1.5,
          11.5,
          2.5,
          4,
          3.5,
          5.5,
          16.5,
          5,
          3.5,
          1.5,
          2,
          7.5,
          0.5,
          3,
          2.5,
          3.5,
          2,
          1.5,
          1.5,
          8,
          8.5,
          1.5,
          0.5,
          1.5,
          1.5,
          1.5,
          3.5,
          4,
          1.5,
          2.5,
          2.5,
          1.5,
          3.5,
          1.5,
          1.5,
          3.5,
          1.5,
          4.5,
          2.5,
          3.5,
          1.5,
          4.5,
          3.5,
          2.5,
          2.5,
          1.5,
          1.5,
          1.5,
          4,
          0.5,
          3.5,
          4.5,
          5.5,
          2.5,
          6.5,
          2.5,
          1.5,
          6.5,
          1.5,
          2.5,
          5,
          1.5,
          1.5,
          1,
          0.5,
          2,
          0.5,
          0.5,
          7,
          3.5,
          1.5,
          1.5,
          4.5,
          1.5,
          1.5,
          1.5,
          5.5,
          3.5,
          1.5,
          2.5,
          1.5,
          3,
          5.5,
          2,
          2.5,
          3,
          1.5,
          4,
          4.5,
          1.5,
          1.5,
          3,
          1.5,
          5.5,
          2.5,
          1.5,
          8,
          0.5,
          2.5,
          2.5,
          5.5,
          1.5,
          5.5,
          5.5,
          1.5,
          3,
          1.5,
          1.5,
          3.5,
          2.5,
          11.5,
          1.5,
          6.5,
          6.5,
          3.5,
          3.5,
          2.5,
          2.5,
          4.5,
          1.5,
          5,
          3,
          9.5,
          3.5,
          2.5,
          4.5,
          1.5,
          1.5,
          5,
          3.5,
          4,
          3.5,
          1,
          7,
          4.5,
          3,
          1.5,
          1.5,
          1.5,
          2.5,
          2.5,
          1,
          3,
          2,
          1.5,
          2.5,
          3.5,
          1.5,
          1.5,
          4.5,
          3,
          4.5,
          6,
          1.5,
          1.5,
          3.5,
          2.5,
          2,
          1.5,
          3.5,
          7.5,
          3,
          4,
          3.5,
          1.5,
          1.5,
          6.5,
          4,
          13.5,
          13.5,
          2,
          1,
          5.5,
          4.5,
          3.5,
          2,
          5.5,
          3,
          2.5,
          3.5,
          9,
          3.5,
          1.5,
          4.5,
          2.5,
          4.5,
          4,
          4.5,
          7.5,
          1.5,
          4.5,
          2,
          6.5,
          1,
          4.5,
          5.5,
          6,
          1.5,
          1.5,
          9.5,
          4,
          11.5,
          1.5,
          1.5,
          8.5,
          3.5,
          1.5,
          6.5,
          2,
          2,
          4.5,
          2,
          1.5,
          1.5,
          1.5,
          4,
          1.5,
          4.5,
          3,
          6.5,
          1.5,
          2,
          2.5,
          1.5,
          4.5,
          5.5,
          2.5,
          2.5,
          1.5,
          2.5,
          1,
          1.5,
          1.5,
          1.5,
          4.5,
          1.5,
          1.5,
          1.5,
          2.5,
          2.5,
          3.5,
          3.5,
          5.5,
          3.5,
          6.5,
          2.5,
          3.5,
          3.5,
          2.5,
          1.5,
          2.5,
          4.5,
          3.5,
          1.5,
          3,
          4.5,
          5,
          1.5,
          8.5,
          2.5,
          9.5,
          6.5,
          2.5,
          7.5,
          4,
          7,
          9.5,
          7,
          2.5,
          4,
          1.5,
          6.5,
          4,
          3.5,
          4.5,
          5.5,
          8,
          8,
          6.5,
          9.5,
          6.5,
          5.5,
          1.5,
          0.5,
          3,
          5.5,
          6,
          7.5,
          11.5,
          3,
          7.5,
          2.5,
          1.5,
          1.5,
          3.5,
          11,
          8,
          9.5,
          1.5,
          1.5,
          2.5,
          4.5,
          1.5,
          1.5,
          3.5,
          4,
          1.5,
          4.5,
          2.5,
          3.5,
          4.5,
          1.5,
          3.5,
          1.5,
          1.5,
          2.5,
          3.5,
          1.5,
          2.5,
          4.5,
          3.5,
          2.5,
          3.5,
          6.5,
          1.5,
          4.5,
          1.5,
          6,
          4,
          4.5,
          5.5,
          3.5,
          6.5,
          1.5,
          4,
          6.5,
          4.5,
          4.5,
          1.5,
          7.5,
          3,
          5.5,
          2.5,
          6.5,
          1.5,
          4,
          1.5,
          3.5,
          2.5,
          1.5,
          1.5,
          1.5,
          6.5,
          1.5,
          6.5,
          3.5,
          1.5,
          7,
          7,
          7,
          6.5,
          0.5,
          0.5,
          4.5,
          1.5,
          7,
          3,
          1.5,
          3.5,
          1.5,
          0.5,
          0.5,
          4.5,
          1.5,
          4.5,
          0.5,
          1.5,
          4.5,
          2,
          1.5,
          6.5,
          2.5,
          3,
          5.5,
          2.5,
          1.5,
          3,
          3.5,
          6.5,
          6.5,
          6.5,
          5.5,
          1.5,
          2.5,
          5.5,
          3,
          5.5,
          1.5,
          2,
          4,
          3,
          1.5,
          4.5,
          1.5,
          1.5,
          1.5,
          1.5,
          1.5,
          1,
          0.5,
          2.5,
          1.5,
          4,
          1.5,
          1.5,
          8,
          1.5,
          6.5,
          1.5,
          2,
          1.5,
          1.5,
          4.5,
          5.5,
          6.5,
          6.5,
          1.5,
          1.5,
          3,
          1.5,
          1.5,
          1.5,
          2.5,
          11.5,
          1.5,
          5.5,
          1.5,
          3.5,
          6.5,
          2.5,
          2.5,
          3.5,
          4.5,
          7.5,
          5,
          6.5,
          6.5,
          5,
          8,
          3.5,
          4,
          6.5,
          1,
          4.5,
          4,
          4,
          7.5,
          4,
          2.5,
          3.5,
          3.5,
          2.5,
          5.5,
          3,
          1.5,
          4.5,
          9.5,
          6.5,
          1,
          7,
          5.5,
          3,
          5.5,
          3.5,
          1,
          3,
          1.5,
          1.5,
          1.5,
          1.5,
          3,
          1.5,
          4.5,
          4.5,
          1.5,
          3,
          6,
          2,
          4.5,
          1.5,
          2.5,
          7,
          2,
          3.5,
          2.5,
          4.5,
          6.5,
          6.5,
          7.5,
          3.5,
          1.5,
          8,
          1,
          3.5,
          1.5,
          7.5,
          6,
          6,
          6.5,
          4,
          4,
          7.5,
          2.5,
          6.5,
          1.5,
          7.5,
          6.5,
          1.5,
          6.5,
          5.5,
          11.5,
          1.5,
          8,
          3.5,
          4.5,
          4.5,
          3.5,
          21.5,
          5.5,
          13.5,
          6.5,
          3.5,
          8,
          4.5,
          3.5,
          4,
          4,
          3.5,
          8,
          0.5,
          6.5,
          4.5,
          8,
          4,
          3.5,
          7.5,
          5.5,
          3.5,
          4.5,
          5,
          10,
          9.5,
          3,
          7,
          3.5,
          7.5,
          8.5,
          9.5,
          6,
          6,
          5,
          5,
          11,
          9.5,
          6.5,
          1.5,
          4.5,
          3.5,
          8.5,
          4,
          4,
          7,
          5.5,
          5.5,
          6.5,
          3.5,
          1.5,
          4.5,
          7,
          4,
          7.5,
          7.5,
          7,
          3,
          8.5,
          4.5,
          8.5,
          3.5,
          7,
          1.5,
          5.5,
          8,
          5.5,
          7.5,
          1.5,
          2,
          5,
          5.5,
          7,
          7,
          5,
          7.5,
          10.5,
          5.5,
          5,
          5,
          5.5,
          4.5,
          7,
          10.5,
          5,
          7,
          5,
          2.5,
          2.5,
          8,
          8,
          5,
          9.5,
          6.5,
          11.5,
          3.5,
          8,
          10,
          4.5,
          15,
          3.5,
          6,
          7.5,
          6,
          6,
          3.5,
          4.5,
          3,
          6,
          4,
          1.5,
          4.5,
          4.5,
          3.5,
          9.5,
          7,
          7,
          3,
          3,
          5,
          7,
          9.5,
          9.5,
          3.5,
          7,
          2.5,
          6,
          3.5,
          1.5,
          6,
          6,
          6,
          6,
          6,
          6,
          6,
          6,
          1.5,
          6.5,
          7.5,
          7.5,
          4,
          8,
          8,
          4.5,
          6.5,
          1.5,
          1.5,
          1.5,
          7.5,
          5.5,
          3.5,
          5,
          1.5,
          5.5,
          9.5,
          10.5,
          6.5,
          4,
          6,
          3.5,
          4.5,
          7.5,
          4.5,
          2,
          4.5,
          1.5,
          9,
          2.5,
          5.5,
          2.5,
          2.5,
          4.5,
          1.5,
          3,
          6,
          3.5,
          6.5,
          4.5,
          4.5,
          6.5,
          6.5,
          6.5,
          5,
          12.5,
          2,
          4.5,
          4.5,
          9,
          9,
          9.5,
          1.5,
          8,
          12.5,
          11.5,
          7.5,
          3.5,
          0.5,
          0.5,
          5.5,
          11.5,
          1.5,
          6.5,
          2.5,
          2.5,
          5.5,
          3.5,
          9.5,
          3.5,
          1.5,
          1.5,
          1.5,
          4.5,
          1.5,
          10.5,
          5.5,
          5.5,
          5.5,
          7,
          8.5,
          7.5,
          5,
          6.5,
          2.5,
          7,
          2.5,
          7.5,
          1.5,
          1.5,
          6.5,
          6.5,
          4.5,
          3.5,
          6.5,
          4.5,
          4.5,
          1.5,
          6.5,
          6.5,
          7.5,
          6,
          1.5,
          5.5,
          6.5,
          4.5,
          3.5,
          4.5,
          6.5,
          1.5,
          6.5,
          9.5,
          4.5,
          8,
          2.5,
          2.5,
          3.5,
          3.5,
          2.5,
          2.5,
          4.5,
          10,
          15,
          1.5,
          6.5,
          9.5,
          6.5,
          6.5,
          4.5,
          7.5,
          6.5,
          8.5,
          4.5,
          1.5,
          6.5,
          2.5,
          6.5,
          4,
          11.5,
          5.5,
          4,
          8,
          1.5,
          4,
          10,
          3.5,
          5.5,
          4,
          5.5,
          4.5,
          3.5,
          3,
          3,
          3,
          1.5,
          8.5,
          6,
          13.5,
          1.5,
          4.5,
          10,
          2.5,
          6.5,
          6.5,
          6.5,
          5.5,
          13,
          1.5,
          4.5,
          7,
          6.5,
          6.5,
          6.5,
          1.5,
          10.5,
          3.5,
          3.5,
          6.5,
          1.5,
          4.5,
          3.5,
          7.5,
          3.5,
          1.5,
          6.5,
          7.5,
          7.5,
          4.5,
          1.5,
          4.5,
          1.5,
          4.5,
          3,
          1.5,
          3,
          4.5,
          4.5,
          1.5,
          4.5,
          6.5,
          5.5,
          4.5,
          6.5,
          5,
          6.5,
          9.5,
          9.5,
          6.5,
          3.5,
          10,
          5.5,
          2.5,
          4.5,
          3,
          6,
          4,
          6,
          11.5,
          6.5,
          1.5,
          2.5,
          2.5,
          1.5,
          1.5,
          1.5,
          5.5,
          6.5,
          1.5,
          6.5,
          5.5,
          1.5,
          1.5,
          8.5,
          1.5,
          9.5,
          1.5,
          6.5,
          6,
          2.5,
          4.5,
          1.5,
          3.5,
          6.5,
          6.5,
          8.5,
          3,
          4.5,
          2,
          4.5,
          8.5,
          9,
          6,
          5,
          4,
          4,
          7.5,
          5.5,
          10.5,
          7.5,
          4.5,
          1.5,
          5.5,
          1.5,
          21.5,
          5.5,
          6.5,
          11,
          6.5,
          10,
          8.5,
          8.5,
          9.5,
          6,
          7.5,
          1.5,
          1.5,
          13.5,
          1.5,
          6.5,
          4.5,
          5,
          10,
          9.5,
          1.5,
          3.5,
          5.5,
          3.5,
          3.5,
          6.5,
          4,
          4,
          10.5,
          1.5,
          6.5,
          6.5,
          6.5,
          7.5,
          6.5,
          7,
          4,
          3.5,
          7.5,
          3,
          11.5,
          7.5,
          5.5,
          5,
          4,
          9.5,
          3.5,
          1.5,
          7,
          4.5,
          6.5,
          3.5,
          7,
          1.5,
          3.5,
          5.5,
          1.5,
          11.5,
          1.5,
          5,
          6.5,
          5.5,
          5.5,
          1.5,
          6.5,
          6.5,
          1.5,
          4,
          2.5,
          2.5,
          0.5,
          1,
          4,
          1.5,
          3.5,
          1.5,
          6,
          5,
          2,
          3.5,
          2.5,
          2.5,
          6.5,
          2,
          2.5,
          2.5,
          3.5,
          6.5,
          1.5,
          2.5,
          8.5,
          3.5,
          3,
          1.5,
          2,
          1.5,
          4,
          1.5,
          2,
          1.5,
          1.5,
          2,
          1.5,
          4.5,
          1.5,
          2.5,
          1.5,
          6.5,
          1.5,
          3.5,
          1.5,
          6.5,
          4,
          2.5,
          1.5,
          5,
          8.5,
          5.5,
          2,
          1.5,
          1.5,
          5.5,
          6.5,
          1.5,
          1.5,
          1.5,
          1.5,
          1.5,
          3.5,
          3.5,
          3,
          5.5,
          6.5,
          4.5,
          8.5,
          4,
          6,
          5.5,
          5,
          2.5,
          2.5,
          2,
          3.5,
          2,
          7.5,
          3,
          6.5,
          2,
          3,
          0.5,
          1.5,
          1.5,
          2.5,
          2.5,
          3.5,
          3.5,
          1.5,
          6.5,
          3.5,
          5.5,
          3.5,
          1.5,
          5.5,
          9,
          3,
          6,
          3,
          3.5,
          1.5,
          3.5,
          2.5,
          6.5,
          3.5,
          3.5,
          1.5,
          1.5,
          1.5,
          3,
          1.5,
          1.5,
          2.5,
          1.5,
          6.5,
          1.5,
          1.5,
          3.5,
          4,
          4.5,
          5.5,
          6.5,
          7.5,
          6.5,
          1.5,
          3,
          2.5,
          3.5,
          6.5,
          7.5,
          9.5,
          1.5,
          2,
          2,
          2,
          3.5,
          0.5,
          3,
          4.5,
          3,
          3,
          3.5,
          1,
          2.5,
          6.5,
          6.5,
          3.5,
          9.5,
          6.5,
          3.5,
          6.5,
          1.5,
          3.5,
          3.5,
          3.5,
          3.5,
          1.5,
          2.5,
          1.5,
          6.5,
          4,
          2.5,
          2.5,
          4,
          8.5,
          3.5,
          4.5,
          3.5,
          2.5,
          2.5,
          1.5,
          3,
          3.5,
          3.5,
          2,
          1.5,
          4.5,
          0.5,
          9,
          1.5,
          3.5,
          1.5,
          4.5,
          3.5,
          4.5,
          4.5,
          2.5,
          2.5,
          4.5,
          4.5,
          3,
          1.5,
          1.5,
          2,
          0.5,
          7,
          1.5,
          1.5,
          4.5,
          3.5,
          11.5,
          4,
          10,
          10,
          5.5,
          3,
          6,
          5.5,
          5,
          5,
          4.5,
          2.5,
          2.5,
          1.5,
          5,
          1.5,
          5,
          9,
          0.5,
          3,
          4,
          4.5,
          1.5,
          3.5,
          3.5,
          3.5,
          3.5,
          1.5,
          2,
          2,
          4.5,
          10,
          4.5,
          4,
          2.5,
          5.5,
          3,
          6,
          2,
          1.5,
          2,
          1.5,
          3.5,
          3.5,
          3.5,
          4,
          3.5,
          1.5,
          1.5,
          5,
          2.5,
          5.5,
          7.5,
          3,
          3,
          3,
          3.5,
          1,
          2,
          3,
          3.5,
          4.5,
          2.5,
          3.5,
          3.5,
          1.5,
          1.5,
          1.5,
          3.5,
          4,
          7.5,
          4,
          0.5,
          2.5,
          1.5,
          1.5,
          1.5,
          3.5,
          1.5,
          1.5,
          0.5,
          6,
          7.5,
          0.5,
          10,
          3.5,
          2.5,
          6.5,
          0.5,
          5.5,
          3.5,
          2.5,
          4,
          4,
          5,
          7,
          2.5,
          1.5,
          1.5,
          4.5,
          3.5,
          1.5,
          1.5,
          1.5,
          1,
          2.5,
          4.5,
          4,
          3.5,
          0.5,
          1,
          1.5,
          1.5,
          1.5,
          2.5,
          1.5,
          1.5,
          1.5,
          1.5,
          2.5,
          3.5,
          1.5,
          2,
          5,
          1.5,
          8,
          1.5,
          3.5,
          3.5,
          1.5,
          3.5,
          11.5,
          1.5,
          5.5,
          1.5,
          1.5,
          2.5,
          2,
          2,
          1.5,
          1.5,
          11.5,
          11.5,
          3,
          1.5,
          2.5,
          2.5,
          1.5,
          8.5,
          2,
          1.5,
          1.5,
          3.5,
          1.5,
          4,
          4,
          1.5,
          2.5,
          2.5,
          2,
          1.5,
          6.5,
          1.5,
          1.5,
          7.5,
          6.5,
          0.5,
          5.5,
          17.5,
          2.5,
          2,
          2,
          3,
          5.5,
          4.5,
          19.5,
          1,
          5,
          1.5,
          7.5,
          1.5,
          1.5,
          1.5,
          1,
          6,
          7,
          11.5,
          8.5,
          6,
          2.5,
          2,
          2.5,
          0.5,
          2,
          1.5,
          1.5,
          3.5,
          2,
          1.5,
          1.5,
          4.5,
          7.5,
          2.5,
          11.5,
          3.5,
          1,
          1.5,
          4,
          2,
          3.5,
          1.5,
          1.5,
          6,
          3.5,
          1.5,
          1.5,
          3,
          4.5,
          3.5,
          0.5,
          0.5,
          1.5,
          1.5,
          3.5,
          0.5,
          0.5,
          1.5,
          1,
          1,
          0.5,
          1.5,
          1.5,
          1.5,
          2,
          2.5,
          2,
          1.5,
          2,
          0.5,
          2,
          0.5,
          2,
          7.5,
          0.5,
          5,
          6.5,
          1.5,
          4.5,
          1.5,
          5.5,
          0.5,
          0.5,
          2,
          2.5,
          4.5,
          4.5,
          0.5,
          3.5,
          1.5,
          0.5,
          3.5,
          4.5,
          4.5,
          11,
          4,
          11,
          4.5,
          6,
          4.5,
          1.5,
          6,
          1,
          4,
          9,
          2,
          3,
          3.5,
          7.5,
          2.5,
          1.5,
          9.5,
          16.5,
          5.5,
          1.5,
          3.5,
          4,
          5,
          3,
          3,
          4,
          4,
          0.5,
          4,
          2,
          10,
          2,
          3.5,
          2.5,
          1.5,
          1
         ],
         "xaxis": "x",
         "yaxis": "y"
        }
       ],
       "layout": {
        "barmode": "relative",
        "legend": {
         "tracegroupgap": 0
        },
        "template": {
         "data": {
          "bar": [
           {
            "error_x": {
             "color": "#2a3f5f"
            },
            "error_y": {
             "color": "#2a3f5f"
            },
            "marker": {
             "line": {
              "color": "#E5ECF6",
              "width": 0.5
             },
             "pattern": {
              "fillmode": "overlay",
              "size": 10,
              "solidity": 0.2
             }
            },
            "type": "bar"
           }
          ],
          "barpolar": [
           {
            "marker": {
             "line": {
              "color": "#E5ECF6",
              "width": 0.5
             },
             "pattern": {
              "fillmode": "overlay",
              "size": 10,
              "solidity": 0.2
             }
            },
            "type": "barpolar"
           }
          ],
          "carpet": [
           {
            "aaxis": {
             "endlinecolor": "#2a3f5f",
             "gridcolor": "white",
             "linecolor": "white",
             "minorgridcolor": "white",
             "startlinecolor": "#2a3f5f"
            },
            "baxis": {
             "endlinecolor": "#2a3f5f",
             "gridcolor": "white",
             "linecolor": "white",
             "minorgridcolor": "white",
             "startlinecolor": "#2a3f5f"
            },
            "type": "carpet"
           }
          ],
          "choropleth": [
           {
            "colorbar": {
             "outlinewidth": 0,
             "ticks": ""
            },
            "type": "choropleth"
           }
          ],
          "contour": [
           {
            "colorbar": {
             "outlinewidth": 0,
             "ticks": ""
            },
            "colorscale": [
             [
              0,
              "#0d0887"
             ],
             [
              0.1111111111111111,
              "#46039f"
             ],
             [
              0.2222222222222222,
              "#7201a8"
             ],
             [
              0.3333333333333333,
              "#9c179e"
             ],
             [
              0.4444444444444444,
              "#bd3786"
             ],
             [
              0.5555555555555556,
              "#d8576b"
             ],
             [
              0.6666666666666666,
              "#ed7953"
             ],
             [
              0.7777777777777778,
              "#fb9f3a"
             ],
             [
              0.8888888888888888,
              "#fdca26"
             ],
             [
              1,
              "#f0f921"
             ]
            ],
            "type": "contour"
           }
          ],
          "contourcarpet": [
           {
            "colorbar": {
             "outlinewidth": 0,
             "ticks": ""
            },
            "type": "contourcarpet"
           }
          ],
          "heatmap": [
           {
            "colorbar": {
             "outlinewidth": 0,
             "ticks": ""
            },
            "colorscale": [
             [
              0,
              "#0d0887"
             ],
             [
              0.1111111111111111,
              "#46039f"
             ],
             [
              0.2222222222222222,
              "#7201a8"
             ],
             [
              0.3333333333333333,
              "#9c179e"
             ],
             [
              0.4444444444444444,
              "#bd3786"
             ],
             [
              0.5555555555555556,
              "#d8576b"
             ],
             [
              0.6666666666666666,
              "#ed7953"
             ],
             [
              0.7777777777777778,
              "#fb9f3a"
             ],
             [
              0.8888888888888888,
              "#fdca26"
             ],
             [
              1,
              "#f0f921"
             ]
            ],
            "type": "heatmap"
           }
          ],
          "heatmapgl": [
           {
            "colorbar": {
             "outlinewidth": 0,
             "ticks": ""
            },
            "colorscale": [
             [
              0,
              "#0d0887"
             ],
             [
              0.1111111111111111,
              "#46039f"
             ],
             [
              0.2222222222222222,
              "#7201a8"
             ],
             [
              0.3333333333333333,
              "#9c179e"
             ],
             [
              0.4444444444444444,
              "#bd3786"
             ],
             [
              0.5555555555555556,
              "#d8576b"
             ],
             [
              0.6666666666666666,
              "#ed7953"
             ],
             [
              0.7777777777777778,
              "#fb9f3a"
             ],
             [
              0.8888888888888888,
              "#fdca26"
             ],
             [
              1,
              "#f0f921"
             ]
            ],
            "type": "heatmapgl"
           }
          ],
          "histogram": [
           {
            "marker": {
             "pattern": {
              "fillmode": "overlay",
              "size": 10,
              "solidity": 0.2
             }
            },
            "type": "histogram"
           }
          ],
          "histogram2d": [
           {
            "colorbar": {
             "outlinewidth": 0,
             "ticks": ""
            },
            "colorscale": [
             [
              0,
              "#0d0887"
             ],
             [
              0.1111111111111111,
              "#46039f"
             ],
             [
              0.2222222222222222,
              "#7201a8"
             ],
             [
              0.3333333333333333,
              "#9c179e"
             ],
             [
              0.4444444444444444,
              "#bd3786"
             ],
             [
              0.5555555555555556,
              "#d8576b"
             ],
             [
              0.6666666666666666,
              "#ed7953"
             ],
             [
              0.7777777777777778,
              "#fb9f3a"
             ],
             [
              0.8888888888888888,
              "#fdca26"
             ],
             [
              1,
              "#f0f921"
             ]
            ],
            "type": "histogram2d"
           }
          ],
          "histogram2dcontour": [
           {
            "colorbar": {
             "outlinewidth": 0,
             "ticks": ""
            },
            "colorscale": [
             [
              0,
              "#0d0887"
             ],
             [
              0.1111111111111111,
              "#46039f"
             ],
             [
              0.2222222222222222,
              "#7201a8"
             ],
             [
              0.3333333333333333,
              "#9c179e"
             ],
             [
              0.4444444444444444,
              "#bd3786"
             ],
             [
              0.5555555555555556,
              "#d8576b"
             ],
             [
              0.6666666666666666,
              "#ed7953"
             ],
             [
              0.7777777777777778,
              "#fb9f3a"
             ],
             [
              0.8888888888888888,
              "#fdca26"
             ],
             [
              1,
              "#f0f921"
             ]
            ],
            "type": "histogram2dcontour"
           }
          ],
          "mesh3d": [
           {
            "colorbar": {
             "outlinewidth": 0,
             "ticks": ""
            },
            "type": "mesh3d"
           }
          ],
          "parcoords": [
           {
            "line": {
             "colorbar": {
              "outlinewidth": 0,
              "ticks": ""
             }
            },
            "type": "parcoords"
           }
          ],
          "pie": [
           {
            "automargin": true,
            "type": "pie"
           }
          ],
          "scatter": [
           {
            "fillpattern": {
             "fillmode": "overlay",
             "size": 10,
             "solidity": 0.2
            },
            "type": "scatter"
           }
          ],
          "scatter3d": [
           {
            "line": {
             "colorbar": {
              "outlinewidth": 0,
              "ticks": ""
             }
            },
            "marker": {
             "colorbar": {
              "outlinewidth": 0,
              "ticks": ""
             }
            },
            "type": "scatter3d"
           }
          ],
          "scattercarpet": [
           {
            "marker": {
             "colorbar": {
              "outlinewidth": 0,
              "ticks": ""
             }
            },
            "type": "scattercarpet"
           }
          ],
          "scattergeo": [
           {
            "marker": {
             "colorbar": {
              "outlinewidth": 0,
              "ticks": ""
             }
            },
            "type": "scattergeo"
           }
          ],
          "scattergl": [
           {
            "marker": {
             "colorbar": {
              "outlinewidth": 0,
              "ticks": ""
             }
            },
            "type": "scattergl"
           }
          ],
          "scattermapbox": [
           {
            "marker": {
             "colorbar": {
              "outlinewidth": 0,
              "ticks": ""
             }
            },
            "type": "scattermapbox"
           }
          ],
          "scatterpolar": [
           {
            "marker": {
             "colorbar": {
              "outlinewidth": 0,
              "ticks": ""
             }
            },
            "type": "scatterpolar"
           }
          ],
          "scatterpolargl": [
           {
            "marker": {
             "colorbar": {
              "outlinewidth": 0,
              "ticks": ""
             }
            },
            "type": "scatterpolargl"
           }
          ],
          "scatterternary": [
           {
            "marker": {
             "colorbar": {
              "outlinewidth": 0,
              "ticks": ""
             }
            },
            "type": "scatterternary"
           }
          ],
          "surface": [
           {
            "colorbar": {
             "outlinewidth": 0,
             "ticks": ""
            },
            "colorscale": [
             [
              0,
              "#0d0887"
             ],
             [
              0.1111111111111111,
              "#46039f"
             ],
             [
              0.2222222222222222,
              "#7201a8"
             ],
             [
              0.3333333333333333,
              "#9c179e"
             ],
             [
              0.4444444444444444,
              "#bd3786"
             ],
             [
              0.5555555555555556,
              "#d8576b"
             ],
             [
              0.6666666666666666,
              "#ed7953"
             ],
             [
              0.7777777777777778,
              "#fb9f3a"
             ],
             [
              0.8888888888888888,
              "#fdca26"
             ],
             [
              1,
              "#f0f921"
             ]
            ],
            "type": "surface"
           }
          ],
          "table": [
           {
            "cells": {
             "fill": {
              "color": "#EBF0F8"
             },
             "line": {
              "color": "white"
             }
            },
            "header": {
             "fill": {
              "color": "#C8D4E3"
             },
             "line": {
              "color": "white"
             }
            },
            "type": "table"
           }
          ]
         },
         "layout": {
          "annotationdefaults": {
           "arrowcolor": "#2a3f5f",
           "arrowhead": 0,
           "arrowwidth": 1
          },
          "autotypenumbers": "strict",
          "coloraxis": {
           "colorbar": {
            "outlinewidth": 0,
            "ticks": ""
           }
          },
          "colorscale": {
           "diverging": [
            [
             0,
             "#8e0152"
            ],
            [
             0.1,
             "#c51b7d"
            ],
            [
             0.2,
             "#de77ae"
            ],
            [
             0.3,
             "#f1b6da"
            ],
            [
             0.4,
             "#fde0ef"
            ],
            [
             0.5,
             "#f7f7f7"
            ],
            [
             0.6,
             "#e6f5d0"
            ],
            [
             0.7,
             "#b8e186"
            ],
            [
             0.8,
             "#7fbc41"
            ],
            [
             0.9,
             "#4d9221"
            ],
            [
             1,
             "#276419"
            ]
           ],
           "sequential": [
            [
             0,
             "#0d0887"
            ],
            [
             0.1111111111111111,
             "#46039f"
            ],
            [
             0.2222222222222222,
             "#7201a8"
            ],
            [
             0.3333333333333333,
             "#9c179e"
            ],
            [
             0.4444444444444444,
             "#bd3786"
            ],
            [
             0.5555555555555556,
             "#d8576b"
            ],
            [
             0.6666666666666666,
             "#ed7953"
            ],
            [
             0.7777777777777778,
             "#fb9f3a"
            ],
            [
             0.8888888888888888,
             "#fdca26"
            ],
            [
             1,
             "#f0f921"
            ]
           ],
           "sequentialminus": [
            [
             0,
             "#0d0887"
            ],
            [
             0.1111111111111111,
             "#46039f"
            ],
            [
             0.2222222222222222,
             "#7201a8"
            ],
            [
             0.3333333333333333,
             "#9c179e"
            ],
            [
             0.4444444444444444,
             "#bd3786"
            ],
            [
             0.5555555555555556,
             "#d8576b"
            ],
            [
             0.6666666666666666,
             "#ed7953"
            ],
            [
             0.7777777777777778,
             "#fb9f3a"
            ],
            [
             0.8888888888888888,
             "#fdca26"
            ],
            [
             1,
             "#f0f921"
            ]
           ]
          },
          "colorway": [
           "#636efa",
           "#EF553B",
           "#00cc96",
           "#ab63fa",
           "#FFA15A",
           "#19d3f3",
           "#FF6692",
           "#B6E880",
           "#FF97FF",
           "#FECB52"
          ],
          "font": {
           "color": "#2a3f5f"
          },
          "geo": {
           "bgcolor": "white",
           "lakecolor": "white",
           "landcolor": "#E5ECF6",
           "showlakes": true,
           "showland": true,
           "subunitcolor": "white"
          },
          "hoverlabel": {
           "align": "left"
          },
          "hovermode": "closest",
          "mapbox": {
           "style": "light"
          },
          "paper_bgcolor": "white",
          "plot_bgcolor": "#E5ECF6",
          "polar": {
           "angularaxis": {
            "gridcolor": "white",
            "linecolor": "white",
            "ticks": ""
           },
           "bgcolor": "#E5ECF6",
           "radialaxis": {
            "gridcolor": "white",
            "linecolor": "white",
            "ticks": ""
           }
          },
          "scene": {
           "xaxis": {
            "backgroundcolor": "#E5ECF6",
            "gridcolor": "white",
            "gridwidth": 2,
            "linecolor": "white",
            "showbackground": true,
            "ticks": "",
            "zerolinecolor": "white"
           },
           "yaxis": {
            "backgroundcolor": "#E5ECF6",
            "gridcolor": "white",
            "gridwidth": 2,
            "linecolor": "white",
            "showbackground": true,
            "ticks": "",
            "zerolinecolor": "white"
           },
           "zaxis": {
            "backgroundcolor": "#E5ECF6",
            "gridcolor": "white",
            "gridwidth": 2,
            "linecolor": "white",
            "showbackground": true,
            "ticks": "",
            "zerolinecolor": "white"
           }
          },
          "shapedefaults": {
           "line": {
            "color": "#2a3f5f"
           }
          },
          "ternary": {
           "aaxis": {
            "gridcolor": "white",
            "linecolor": "white",
            "ticks": ""
           },
           "baxis": {
            "gridcolor": "white",
            "linecolor": "white",
            "ticks": ""
           },
           "bgcolor": "#E5ECF6",
           "caxis": {
            "gridcolor": "white",
            "linecolor": "white",
            "ticks": ""
           }
          },
          "title": {
           "x": 0.05
          },
          "xaxis": {
           "automargin": true,
           "gridcolor": "white",
           "linecolor": "white",
           "ticks": "",
           "title": {
            "standoff": 15
           },
           "zerolinecolor": "white",
           "zerolinewidth": 2
          },
          "yaxis": {
           "automargin": true,
           "gridcolor": "white",
           "linecolor": "white",
           "ticks": "",
           "title": {
            "standoff": 15
           },
           "zerolinecolor": "white",
           "zerolinewidth": 2
          }
         }
        },
        "title": {
         "text": "Distribution of Average Years of Experience Required"
        },
        "xaxis": {
         "anchor": "y",
         "domain": [
          0,
          1
         ],
         "title": {
          "text": "Average YOE"
         }
        },
        "yaxis": {
         "anchor": "x",
         "domain": [
          0,
          1
         ],
         "title": {
          "text": "count"
         }
        }
       }
      }
     },
     "metadata": {},
     "output_type": "display_data"
    }
   ],
   "source": [
    "fig = px.histogram(job_data, \n",
    "                   x='Average YOE', \n",
    "                   nbins=10, \n",
    "                   title='Distribution of Average Years of Experience Required')\n",
    "fig.show()"
   ]
  },
  {
   "cell_type": "code",
   "execution_count": 43,
   "metadata": {},
   "outputs": [
    {
     "data": {
      "application/vnd.plotly.v1+json": {
       "config": {
        "plotlyServerURL": "https://plot.ly"
       },
       "data": [
        {
         "domain": {
          "x": [
           0,
           1
          ],
          "y": [
           0,
           1
          ]
         },
         "hovertemplate": "label=%{label}<br>value=%{value}<extra></extra>",
         "labels": [
          "javascript",
          "css",
          "html",
          "java",
          "jquery",
          "python",
          "sql",
          "xml",
          "html5",
          "database"
         ],
         "legendgroup": "",
         "name": "",
         "showlegend": true,
         "type": "pie",
         "values": [
          796,
          638,
          628,
          439,
          380,
          360,
          357,
          347,
          343,
          271
         ]
        }
       ],
       "layout": {
        "legend": {
         "tracegroupgap": 0
        },
        "template": {
         "data": {
          "bar": [
           {
            "error_x": {
             "color": "#2a3f5f"
            },
            "error_y": {
             "color": "#2a3f5f"
            },
            "marker": {
             "line": {
              "color": "#E5ECF6",
              "width": 0.5
             },
             "pattern": {
              "fillmode": "overlay",
              "size": 10,
              "solidity": 0.2
             }
            },
            "type": "bar"
           }
          ],
          "barpolar": [
           {
            "marker": {
             "line": {
              "color": "#E5ECF6",
              "width": 0.5
             },
             "pattern": {
              "fillmode": "overlay",
              "size": 10,
              "solidity": 0.2
             }
            },
            "type": "barpolar"
           }
          ],
          "carpet": [
           {
            "aaxis": {
             "endlinecolor": "#2a3f5f",
             "gridcolor": "white",
             "linecolor": "white",
             "minorgridcolor": "white",
             "startlinecolor": "#2a3f5f"
            },
            "baxis": {
             "endlinecolor": "#2a3f5f",
             "gridcolor": "white",
             "linecolor": "white",
             "minorgridcolor": "white",
             "startlinecolor": "#2a3f5f"
            },
            "type": "carpet"
           }
          ],
          "choropleth": [
           {
            "colorbar": {
             "outlinewidth": 0,
             "ticks": ""
            },
            "type": "choropleth"
           }
          ],
          "contour": [
           {
            "colorbar": {
             "outlinewidth": 0,
             "ticks": ""
            },
            "colorscale": [
             [
              0,
              "#0d0887"
             ],
             [
              0.1111111111111111,
              "#46039f"
             ],
             [
              0.2222222222222222,
              "#7201a8"
             ],
             [
              0.3333333333333333,
              "#9c179e"
             ],
             [
              0.4444444444444444,
              "#bd3786"
             ],
             [
              0.5555555555555556,
              "#d8576b"
             ],
             [
              0.6666666666666666,
              "#ed7953"
             ],
             [
              0.7777777777777778,
              "#fb9f3a"
             ],
             [
              0.8888888888888888,
              "#fdca26"
             ],
             [
              1,
              "#f0f921"
             ]
            ],
            "type": "contour"
           }
          ],
          "contourcarpet": [
           {
            "colorbar": {
             "outlinewidth": 0,
             "ticks": ""
            },
            "type": "contourcarpet"
           }
          ],
          "heatmap": [
           {
            "colorbar": {
             "outlinewidth": 0,
             "ticks": ""
            },
            "colorscale": [
             [
              0,
              "#0d0887"
             ],
             [
              0.1111111111111111,
              "#46039f"
             ],
             [
              0.2222222222222222,
              "#7201a8"
             ],
             [
              0.3333333333333333,
              "#9c179e"
             ],
             [
              0.4444444444444444,
              "#bd3786"
             ],
             [
              0.5555555555555556,
              "#d8576b"
             ],
             [
              0.6666666666666666,
              "#ed7953"
             ],
             [
              0.7777777777777778,
              "#fb9f3a"
             ],
             [
              0.8888888888888888,
              "#fdca26"
             ],
             [
              1,
              "#f0f921"
             ]
            ],
            "type": "heatmap"
           }
          ],
          "heatmapgl": [
           {
            "colorbar": {
             "outlinewidth": 0,
             "ticks": ""
            },
            "colorscale": [
             [
              0,
              "#0d0887"
             ],
             [
              0.1111111111111111,
              "#46039f"
             ],
             [
              0.2222222222222222,
              "#7201a8"
             ],
             [
              0.3333333333333333,
              "#9c179e"
             ],
             [
              0.4444444444444444,
              "#bd3786"
             ],
             [
              0.5555555555555556,
              "#d8576b"
             ],
             [
              0.6666666666666666,
              "#ed7953"
             ],
             [
              0.7777777777777778,
              "#fb9f3a"
             ],
             [
              0.8888888888888888,
              "#fdca26"
             ],
             [
              1,
              "#f0f921"
             ]
            ],
            "type": "heatmapgl"
           }
          ],
          "histogram": [
           {
            "marker": {
             "pattern": {
              "fillmode": "overlay",
              "size": 10,
              "solidity": 0.2
             }
            },
            "type": "histogram"
           }
          ],
          "histogram2d": [
           {
            "colorbar": {
             "outlinewidth": 0,
             "ticks": ""
            },
            "colorscale": [
             [
              0,
              "#0d0887"
             ],
             [
              0.1111111111111111,
              "#46039f"
             ],
             [
              0.2222222222222222,
              "#7201a8"
             ],
             [
              0.3333333333333333,
              "#9c179e"
             ],
             [
              0.4444444444444444,
              "#bd3786"
             ],
             [
              0.5555555555555556,
              "#d8576b"
             ],
             [
              0.6666666666666666,
              "#ed7953"
             ],
             [
              0.7777777777777778,
              "#fb9f3a"
             ],
             [
              0.8888888888888888,
              "#fdca26"
             ],
             [
              1,
              "#f0f921"
             ]
            ],
            "type": "histogram2d"
           }
          ],
          "histogram2dcontour": [
           {
            "colorbar": {
             "outlinewidth": 0,
             "ticks": ""
            },
            "colorscale": [
             [
              0,
              "#0d0887"
             ],
             [
              0.1111111111111111,
              "#46039f"
             ],
             [
              0.2222222222222222,
              "#7201a8"
             ],
             [
              0.3333333333333333,
              "#9c179e"
             ],
             [
              0.4444444444444444,
              "#bd3786"
             ],
             [
              0.5555555555555556,
              "#d8576b"
             ],
             [
              0.6666666666666666,
              "#ed7953"
             ],
             [
              0.7777777777777778,
              "#fb9f3a"
             ],
             [
              0.8888888888888888,
              "#fdca26"
             ],
             [
              1,
              "#f0f921"
             ]
            ],
            "type": "histogram2dcontour"
           }
          ],
          "mesh3d": [
           {
            "colorbar": {
             "outlinewidth": 0,
             "ticks": ""
            },
            "type": "mesh3d"
           }
          ],
          "parcoords": [
           {
            "line": {
             "colorbar": {
              "outlinewidth": 0,
              "ticks": ""
             }
            },
            "type": "parcoords"
           }
          ],
          "pie": [
           {
            "automargin": true,
            "type": "pie"
           }
          ],
          "scatter": [
           {
            "fillpattern": {
             "fillmode": "overlay",
             "size": 10,
             "solidity": 0.2
            },
            "type": "scatter"
           }
          ],
          "scatter3d": [
           {
            "line": {
             "colorbar": {
              "outlinewidth": 0,
              "ticks": ""
             }
            },
            "marker": {
             "colorbar": {
              "outlinewidth": 0,
              "ticks": ""
             }
            },
            "type": "scatter3d"
           }
          ],
          "scattercarpet": [
           {
            "marker": {
             "colorbar": {
              "outlinewidth": 0,
              "ticks": ""
             }
            },
            "type": "scattercarpet"
           }
          ],
          "scattergeo": [
           {
            "marker": {
             "colorbar": {
              "outlinewidth": 0,
              "ticks": ""
             }
            },
            "type": "scattergeo"
           }
          ],
          "scattergl": [
           {
            "marker": {
             "colorbar": {
              "outlinewidth": 0,
              "ticks": ""
             }
            },
            "type": "scattergl"
           }
          ],
          "scattermapbox": [
           {
            "marker": {
             "colorbar": {
              "outlinewidth": 0,
              "ticks": ""
             }
            },
            "type": "scattermapbox"
           }
          ],
          "scatterpolar": [
           {
            "marker": {
             "colorbar": {
              "outlinewidth": 0,
              "ticks": ""
             }
            },
            "type": "scatterpolar"
           }
          ],
          "scatterpolargl": [
           {
            "marker": {
             "colorbar": {
              "outlinewidth": 0,
              "ticks": ""
             }
            },
            "type": "scatterpolargl"
           }
          ],
          "scatterternary": [
           {
            "marker": {
             "colorbar": {
              "outlinewidth": 0,
              "ticks": ""
             }
            },
            "type": "scatterternary"
           }
          ],
          "surface": [
           {
            "colorbar": {
             "outlinewidth": 0,
             "ticks": ""
            },
            "colorscale": [
             [
              0,
              "#0d0887"
             ],
             [
              0.1111111111111111,
              "#46039f"
             ],
             [
              0.2222222222222222,
              "#7201a8"
             ],
             [
              0.3333333333333333,
              "#9c179e"
             ],
             [
              0.4444444444444444,
              "#bd3786"
             ],
             [
              0.5555555555555556,
              "#d8576b"
             ],
             [
              0.6666666666666666,
              "#ed7953"
             ],
             [
              0.7777777777777778,
              "#fb9f3a"
             ],
             [
              0.8888888888888888,
              "#fdca26"
             ],
             [
              1,
              "#f0f921"
             ]
            ],
            "type": "surface"
           }
          ],
          "table": [
           {
            "cells": {
             "fill": {
              "color": "#EBF0F8"
             },
             "line": {
              "color": "white"
             }
            },
            "header": {
             "fill": {
              "color": "#C8D4E3"
             },
             "line": {
              "color": "white"
             }
            },
            "type": "table"
           }
          ]
         },
         "layout": {
          "annotationdefaults": {
           "arrowcolor": "#2a3f5f",
           "arrowhead": 0,
           "arrowwidth": 1
          },
          "autotypenumbers": "strict",
          "coloraxis": {
           "colorbar": {
            "outlinewidth": 0,
            "ticks": ""
           }
          },
          "colorscale": {
           "diverging": [
            [
             0,
             "#8e0152"
            ],
            [
             0.1,
             "#c51b7d"
            ],
            [
             0.2,
             "#de77ae"
            ],
            [
             0.3,
             "#f1b6da"
            ],
            [
             0.4,
             "#fde0ef"
            ],
            [
             0.5,
             "#f7f7f7"
            ],
            [
             0.6,
             "#e6f5d0"
            ],
            [
             0.7,
             "#b8e186"
            ],
            [
             0.8,
             "#7fbc41"
            ],
            [
             0.9,
             "#4d9221"
            ],
            [
             1,
             "#276419"
            ]
           ],
           "sequential": [
            [
             0,
             "#0d0887"
            ],
            [
             0.1111111111111111,
             "#46039f"
            ],
            [
             0.2222222222222222,
             "#7201a8"
            ],
            [
             0.3333333333333333,
             "#9c179e"
            ],
            [
             0.4444444444444444,
             "#bd3786"
            ],
            [
             0.5555555555555556,
             "#d8576b"
            ],
            [
             0.6666666666666666,
             "#ed7953"
            ],
            [
             0.7777777777777778,
             "#fb9f3a"
            ],
            [
             0.8888888888888888,
             "#fdca26"
            ],
            [
             1,
             "#f0f921"
            ]
           ],
           "sequentialminus": [
            [
             0,
             "#0d0887"
            ],
            [
             0.1111111111111111,
             "#46039f"
            ],
            [
             0.2222222222222222,
             "#7201a8"
            ],
            [
             0.3333333333333333,
             "#9c179e"
            ],
            [
             0.4444444444444444,
             "#bd3786"
            ],
            [
             0.5555555555555556,
             "#d8576b"
            ],
            [
             0.6666666666666666,
             "#ed7953"
            ],
            [
             0.7777777777777778,
             "#fb9f3a"
            ],
            [
             0.8888888888888888,
             "#fdca26"
            ],
            [
             1,
             "#f0f921"
            ]
           ]
          },
          "colorway": [
           "#636efa",
           "#EF553B",
           "#00cc96",
           "#ab63fa",
           "#FFA15A",
           "#19d3f3",
           "#FF6692",
           "#B6E880",
           "#FF97FF",
           "#FECB52"
          ],
          "font": {
           "color": "#2a3f5f"
          },
          "geo": {
           "bgcolor": "white",
           "lakecolor": "white",
           "landcolor": "#E5ECF6",
           "showlakes": true,
           "showland": true,
           "subunitcolor": "white"
          },
          "hoverlabel": {
           "align": "left"
          },
          "hovermode": "closest",
          "mapbox": {
           "style": "light"
          },
          "paper_bgcolor": "white",
          "plot_bgcolor": "#E5ECF6",
          "polar": {
           "angularaxis": {
            "gridcolor": "white",
            "linecolor": "white",
            "ticks": ""
           },
           "bgcolor": "#E5ECF6",
           "radialaxis": {
            "gridcolor": "white",
            "linecolor": "white",
            "ticks": ""
           }
          },
          "scene": {
           "xaxis": {
            "backgroundcolor": "#E5ECF6",
            "gridcolor": "white",
            "gridwidth": 2,
            "linecolor": "white",
            "showbackground": true,
            "ticks": "",
            "zerolinecolor": "white"
           },
           "yaxis": {
            "backgroundcolor": "#E5ECF6",
            "gridcolor": "white",
            "gridwidth": 2,
            "linecolor": "white",
            "showbackground": true,
            "ticks": "",
            "zerolinecolor": "white"
           },
           "zaxis": {
            "backgroundcolor": "#E5ECF6",
            "gridcolor": "white",
            "gridwidth": 2,
            "linecolor": "white",
            "showbackground": true,
            "ticks": "",
            "zerolinecolor": "white"
           }
          },
          "shapedefaults": {
           "line": {
            "color": "#2a3f5f"
           }
          },
          "ternary": {
           "aaxis": {
            "gridcolor": "white",
            "linecolor": "white",
            "ticks": ""
           },
           "baxis": {
            "gridcolor": "white",
            "linecolor": "white",
            "ticks": ""
           },
           "bgcolor": "#E5ECF6",
           "caxis": {
            "gridcolor": "white",
            "linecolor": "white",
            "ticks": ""
           }
          },
          "title": {
           "x": 0.05
          },
          "xaxis": {
           "automargin": true,
           "gridcolor": "white",
           "linecolor": "white",
           "ticks": "",
           "title": {
            "standoff": 15
           },
           "zerolinecolor": "white",
           "zerolinewidth": 2
          },
          "yaxis": {
           "automargin": true,
           "gridcolor": "white",
           "linecolor": "white",
           "ticks": "",
           "title": {
            "standoff": 15
           },
           "zerolinecolor": "white",
           "zerolinewidth": 2
          }
         }
        },
        "title": {
         "text": "Top 10 Skills Distribution"
        }
       }
      }
     },
     "metadata": {},
     "output_type": "display_data"
    }
   ],
   "source": [
    "fig = px.pie(values=skill_counts.head(10), \n",
    "             names=skill_counts.head(10).index, \n",
    "             title='Top 10 Skills Distribution')\n",
    "fig.show()"
   ]
  },
  {
   "cell_type": "code",
   "execution_count": 44,
   "metadata": {},
   "outputs": [
    {
     "data": {
      "application/vnd.plotly.v1+json": {
       "config": {
        "plotlyServerURL": "https://plot.ly"
       },
       "data": [
        {
         "alignmentgroup": "True",
         "hovertemplate": "Number of Jobs=%{x}<br>Industry:=%{y}<extra></extra>",
         "legendgroup": "",
         "marker": {
          "color": "#636efa",
          "pattern": {
           "shape": ""
          }
         },
         "name": "",
         "offsetgroup": "",
         "orientation": "h",
         "showlegend": false,
         "textposition": "auto",
         "type": "bar",
         "x": [
          1072,
          343,
          163,
          81,
          68,
          50,
          48,
          45,
          37,
          36
         ],
         "xaxis": "x",
         "y": [
          "IT-Hardware/Networking,  Telecom",
          "Consulting Services",
          "IT-Software",
          "Telecom,  IT-Hardware/Networking",
          "Software Services,  Internet/Dot com/ISP",
          "Others - other Industry",
          "Advertising/PR/Event Management,  Entertainment/Media",
          "Recruitment/Placement Agencies,  Consulting Services",
          "Software Services,  IT-Software",
          "Financial Services/Stockbroking,  Banking"
         ],
         "yaxis": "y"
        }
       ],
       "layout": {
        "barmode": "relative",
        "legend": {
         "tracegroupgap": 0
        },
        "template": {
         "data": {
          "bar": [
           {
            "error_x": {
             "color": "#2a3f5f"
            },
            "error_y": {
             "color": "#2a3f5f"
            },
            "marker": {
             "line": {
              "color": "#E5ECF6",
              "width": 0.5
             },
             "pattern": {
              "fillmode": "overlay",
              "size": 10,
              "solidity": 0.2
             }
            },
            "type": "bar"
           }
          ],
          "barpolar": [
           {
            "marker": {
             "line": {
              "color": "#E5ECF6",
              "width": 0.5
             },
             "pattern": {
              "fillmode": "overlay",
              "size": 10,
              "solidity": 0.2
             }
            },
            "type": "barpolar"
           }
          ],
          "carpet": [
           {
            "aaxis": {
             "endlinecolor": "#2a3f5f",
             "gridcolor": "white",
             "linecolor": "white",
             "minorgridcolor": "white",
             "startlinecolor": "#2a3f5f"
            },
            "baxis": {
             "endlinecolor": "#2a3f5f",
             "gridcolor": "white",
             "linecolor": "white",
             "minorgridcolor": "white",
             "startlinecolor": "#2a3f5f"
            },
            "type": "carpet"
           }
          ],
          "choropleth": [
           {
            "colorbar": {
             "outlinewidth": 0,
             "ticks": ""
            },
            "type": "choropleth"
           }
          ],
          "contour": [
           {
            "colorbar": {
             "outlinewidth": 0,
             "ticks": ""
            },
            "colorscale": [
             [
              0,
              "#0d0887"
             ],
             [
              0.1111111111111111,
              "#46039f"
             ],
             [
              0.2222222222222222,
              "#7201a8"
             ],
             [
              0.3333333333333333,
              "#9c179e"
             ],
             [
              0.4444444444444444,
              "#bd3786"
             ],
             [
              0.5555555555555556,
              "#d8576b"
             ],
             [
              0.6666666666666666,
              "#ed7953"
             ],
             [
              0.7777777777777778,
              "#fb9f3a"
             ],
             [
              0.8888888888888888,
              "#fdca26"
             ],
             [
              1,
              "#f0f921"
             ]
            ],
            "type": "contour"
           }
          ],
          "contourcarpet": [
           {
            "colorbar": {
             "outlinewidth": 0,
             "ticks": ""
            },
            "type": "contourcarpet"
           }
          ],
          "heatmap": [
           {
            "colorbar": {
             "outlinewidth": 0,
             "ticks": ""
            },
            "colorscale": [
             [
              0,
              "#0d0887"
             ],
             [
              0.1111111111111111,
              "#46039f"
             ],
             [
              0.2222222222222222,
              "#7201a8"
             ],
             [
              0.3333333333333333,
              "#9c179e"
             ],
             [
              0.4444444444444444,
              "#bd3786"
             ],
             [
              0.5555555555555556,
              "#d8576b"
             ],
             [
              0.6666666666666666,
              "#ed7953"
             ],
             [
              0.7777777777777778,
              "#fb9f3a"
             ],
             [
              0.8888888888888888,
              "#fdca26"
             ],
             [
              1,
              "#f0f921"
             ]
            ],
            "type": "heatmap"
           }
          ],
          "heatmapgl": [
           {
            "colorbar": {
             "outlinewidth": 0,
             "ticks": ""
            },
            "colorscale": [
             [
              0,
              "#0d0887"
             ],
             [
              0.1111111111111111,
              "#46039f"
             ],
             [
              0.2222222222222222,
              "#7201a8"
             ],
             [
              0.3333333333333333,
              "#9c179e"
             ],
             [
              0.4444444444444444,
              "#bd3786"
             ],
             [
              0.5555555555555556,
              "#d8576b"
             ],
             [
              0.6666666666666666,
              "#ed7953"
             ],
             [
              0.7777777777777778,
              "#fb9f3a"
             ],
             [
              0.8888888888888888,
              "#fdca26"
             ],
             [
              1,
              "#f0f921"
             ]
            ],
            "type": "heatmapgl"
           }
          ],
          "histogram": [
           {
            "marker": {
             "pattern": {
              "fillmode": "overlay",
              "size": 10,
              "solidity": 0.2
             }
            },
            "type": "histogram"
           }
          ],
          "histogram2d": [
           {
            "colorbar": {
             "outlinewidth": 0,
             "ticks": ""
            },
            "colorscale": [
             [
              0,
              "#0d0887"
             ],
             [
              0.1111111111111111,
              "#46039f"
             ],
             [
              0.2222222222222222,
              "#7201a8"
             ],
             [
              0.3333333333333333,
              "#9c179e"
             ],
             [
              0.4444444444444444,
              "#bd3786"
             ],
             [
              0.5555555555555556,
              "#d8576b"
             ],
             [
              0.6666666666666666,
              "#ed7953"
             ],
             [
              0.7777777777777778,
              "#fb9f3a"
             ],
             [
              0.8888888888888888,
              "#fdca26"
             ],
             [
              1,
              "#f0f921"
             ]
            ],
            "type": "histogram2d"
           }
          ],
          "histogram2dcontour": [
           {
            "colorbar": {
             "outlinewidth": 0,
             "ticks": ""
            },
            "colorscale": [
             [
              0,
              "#0d0887"
             ],
             [
              0.1111111111111111,
              "#46039f"
             ],
             [
              0.2222222222222222,
              "#7201a8"
             ],
             [
              0.3333333333333333,
              "#9c179e"
             ],
             [
              0.4444444444444444,
              "#bd3786"
             ],
             [
              0.5555555555555556,
              "#d8576b"
             ],
             [
              0.6666666666666666,
              "#ed7953"
             ],
             [
              0.7777777777777778,
              "#fb9f3a"
             ],
             [
              0.8888888888888888,
              "#fdca26"
             ],
             [
              1,
              "#f0f921"
             ]
            ],
            "type": "histogram2dcontour"
           }
          ],
          "mesh3d": [
           {
            "colorbar": {
             "outlinewidth": 0,
             "ticks": ""
            },
            "type": "mesh3d"
           }
          ],
          "parcoords": [
           {
            "line": {
             "colorbar": {
              "outlinewidth": 0,
              "ticks": ""
             }
            },
            "type": "parcoords"
           }
          ],
          "pie": [
           {
            "automargin": true,
            "type": "pie"
           }
          ],
          "scatter": [
           {
            "fillpattern": {
             "fillmode": "overlay",
             "size": 10,
             "solidity": 0.2
            },
            "type": "scatter"
           }
          ],
          "scatter3d": [
           {
            "line": {
             "colorbar": {
              "outlinewidth": 0,
              "ticks": ""
             }
            },
            "marker": {
             "colorbar": {
              "outlinewidth": 0,
              "ticks": ""
             }
            },
            "type": "scatter3d"
           }
          ],
          "scattercarpet": [
           {
            "marker": {
             "colorbar": {
              "outlinewidth": 0,
              "ticks": ""
             }
            },
            "type": "scattercarpet"
           }
          ],
          "scattergeo": [
           {
            "marker": {
             "colorbar": {
              "outlinewidth": 0,
              "ticks": ""
             }
            },
            "type": "scattergeo"
           }
          ],
          "scattergl": [
           {
            "marker": {
             "colorbar": {
              "outlinewidth": 0,
              "ticks": ""
             }
            },
            "type": "scattergl"
           }
          ],
          "scattermapbox": [
           {
            "marker": {
             "colorbar": {
              "outlinewidth": 0,
              "ticks": ""
             }
            },
            "type": "scattermapbox"
           }
          ],
          "scatterpolar": [
           {
            "marker": {
             "colorbar": {
              "outlinewidth": 0,
              "ticks": ""
             }
            },
            "type": "scatterpolar"
           }
          ],
          "scatterpolargl": [
           {
            "marker": {
             "colorbar": {
              "outlinewidth": 0,
              "ticks": ""
             }
            },
            "type": "scatterpolargl"
           }
          ],
          "scatterternary": [
           {
            "marker": {
             "colorbar": {
              "outlinewidth": 0,
              "ticks": ""
             }
            },
            "type": "scatterternary"
           }
          ],
          "surface": [
           {
            "colorbar": {
             "outlinewidth": 0,
             "ticks": ""
            },
            "colorscale": [
             [
              0,
              "#0d0887"
             ],
             [
              0.1111111111111111,
              "#46039f"
             ],
             [
              0.2222222222222222,
              "#7201a8"
             ],
             [
              0.3333333333333333,
              "#9c179e"
             ],
             [
              0.4444444444444444,
              "#bd3786"
             ],
             [
              0.5555555555555556,
              "#d8576b"
             ],
             [
              0.6666666666666666,
              "#ed7953"
             ],
             [
              0.7777777777777778,
              "#fb9f3a"
             ],
             [
              0.8888888888888888,
              "#fdca26"
             ],
             [
              1,
              "#f0f921"
             ]
            ],
            "type": "surface"
           }
          ],
          "table": [
           {
            "cells": {
             "fill": {
              "color": "#EBF0F8"
             },
             "line": {
              "color": "white"
             }
            },
            "header": {
             "fill": {
              "color": "#C8D4E3"
             },
             "line": {
              "color": "white"
             }
            },
            "type": "table"
           }
          ]
         },
         "layout": {
          "annotationdefaults": {
           "arrowcolor": "#2a3f5f",
           "arrowhead": 0,
           "arrowwidth": 1
          },
          "autotypenumbers": "strict",
          "coloraxis": {
           "colorbar": {
            "outlinewidth": 0,
            "ticks": ""
           }
          },
          "colorscale": {
           "diverging": [
            [
             0,
             "#8e0152"
            ],
            [
             0.1,
             "#c51b7d"
            ],
            [
             0.2,
             "#de77ae"
            ],
            [
             0.3,
             "#f1b6da"
            ],
            [
             0.4,
             "#fde0ef"
            ],
            [
             0.5,
             "#f7f7f7"
            ],
            [
             0.6,
             "#e6f5d0"
            ],
            [
             0.7,
             "#b8e186"
            ],
            [
             0.8,
             "#7fbc41"
            ],
            [
             0.9,
             "#4d9221"
            ],
            [
             1,
             "#276419"
            ]
           ],
           "sequential": [
            [
             0,
             "#0d0887"
            ],
            [
             0.1111111111111111,
             "#46039f"
            ],
            [
             0.2222222222222222,
             "#7201a8"
            ],
            [
             0.3333333333333333,
             "#9c179e"
            ],
            [
             0.4444444444444444,
             "#bd3786"
            ],
            [
             0.5555555555555556,
             "#d8576b"
            ],
            [
             0.6666666666666666,
             "#ed7953"
            ],
            [
             0.7777777777777778,
             "#fb9f3a"
            ],
            [
             0.8888888888888888,
             "#fdca26"
            ],
            [
             1,
             "#f0f921"
            ]
           ],
           "sequentialminus": [
            [
             0,
             "#0d0887"
            ],
            [
             0.1111111111111111,
             "#46039f"
            ],
            [
             0.2222222222222222,
             "#7201a8"
            ],
            [
             0.3333333333333333,
             "#9c179e"
            ],
            [
             0.4444444444444444,
             "#bd3786"
            ],
            [
             0.5555555555555556,
             "#d8576b"
            ],
            [
             0.6666666666666666,
             "#ed7953"
            ],
            [
             0.7777777777777778,
             "#fb9f3a"
            ],
            [
             0.8888888888888888,
             "#fdca26"
            ],
            [
             1,
             "#f0f921"
            ]
           ]
          },
          "colorway": [
           "#636efa",
           "#EF553B",
           "#00cc96",
           "#ab63fa",
           "#FFA15A",
           "#19d3f3",
           "#FF6692",
           "#B6E880",
           "#FF97FF",
           "#FECB52"
          ],
          "font": {
           "color": "#2a3f5f"
          },
          "geo": {
           "bgcolor": "white",
           "lakecolor": "white",
           "landcolor": "#E5ECF6",
           "showlakes": true,
           "showland": true,
           "subunitcolor": "white"
          },
          "hoverlabel": {
           "align": "left"
          },
          "hovermode": "closest",
          "mapbox": {
           "style": "light"
          },
          "paper_bgcolor": "white",
          "plot_bgcolor": "#E5ECF6",
          "polar": {
           "angularaxis": {
            "gridcolor": "white",
            "linecolor": "white",
            "ticks": ""
           },
           "bgcolor": "#E5ECF6",
           "radialaxis": {
            "gridcolor": "white",
            "linecolor": "white",
            "ticks": ""
           }
          },
          "scene": {
           "xaxis": {
            "backgroundcolor": "#E5ECF6",
            "gridcolor": "white",
            "gridwidth": 2,
            "linecolor": "white",
            "showbackground": true,
            "ticks": "",
            "zerolinecolor": "white"
           },
           "yaxis": {
            "backgroundcolor": "#E5ECF6",
            "gridcolor": "white",
            "gridwidth": 2,
            "linecolor": "white",
            "showbackground": true,
            "ticks": "",
            "zerolinecolor": "white"
           },
           "zaxis": {
            "backgroundcolor": "#E5ECF6",
            "gridcolor": "white",
            "gridwidth": 2,
            "linecolor": "white",
            "showbackground": true,
            "ticks": "",
            "zerolinecolor": "white"
           }
          },
          "shapedefaults": {
           "line": {
            "color": "#2a3f5f"
           }
          },
          "ternary": {
           "aaxis": {
            "gridcolor": "white",
            "linecolor": "white",
            "ticks": ""
           },
           "baxis": {
            "gridcolor": "white",
            "linecolor": "white",
            "ticks": ""
           },
           "bgcolor": "#E5ECF6",
           "caxis": {
            "gridcolor": "white",
            "linecolor": "white",
            "ticks": ""
           }
          },
          "title": {
           "x": 0.05
          },
          "xaxis": {
           "automargin": true,
           "gridcolor": "white",
           "linecolor": "white",
           "ticks": "",
           "title": {
            "standoff": 15
           },
           "zerolinecolor": "white",
           "zerolinewidth": 2
          },
          "yaxis": {
           "automargin": true,
           "gridcolor": "white",
           "linecolor": "white",
           "ticks": "",
           "title": {
            "standoff": 15
           },
           "zerolinecolor": "white",
           "zerolinewidth": 2
          }
         }
        },
        "title": {
         "text": "Top 10 Industries for Jobs"
        },
        "xaxis": {
         "anchor": "y",
         "domain": [
          0,
          1
         ],
         "title": {
          "text": "Number of Jobs"
         }
        },
        "yaxis": {
         "anchor": "x",
         "domain": [
          0,
          1
         ],
         "title": {
          "text": "Industry:"
         }
        }
       }
      }
     },
     "metadata": {},
     "output_type": "display_data"
    }
   ],
   "source": [
    "fig= px.bar(industry_count,\n",
    "            x=industry_count.values,\n",
    "            y=industry_count.index,\n",
    "            labels={'x':'Number of Jobs','index':'Industry'},\n",
    "            title='Top 10 Industries for Jobs')\n",
    "fig.show()"
   ]
  },
  {
   "cell_type": "code",
   "execution_count": null,
   "metadata": {},
   "outputs": [],
   "source": []
  }
 ],
 "metadata": {
  "kernelspec": {
   "display_name": "eda",
   "language": "python",
   "name": "python3"
  },
  "language_info": {
   "codemirror_mode": {
    "name": "ipython",
    "version": 3
   },
   "file_extension": ".py",
   "mimetype": "text/x-python",
   "name": "python",
   "nbconvert_exporter": "python",
   "pygments_lexer": "ipython3",
   "version": "3.9.18"
  }
 },
 "nbformat": 4,
 "nbformat_minor": 2
}
